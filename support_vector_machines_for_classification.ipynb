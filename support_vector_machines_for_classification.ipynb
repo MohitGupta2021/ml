{
  "nbformat": 4,
  "nbformat_minor": 0,
  "metadata": {
    "colab": {
      "name": "support_vector_machines_for_classification",
      "provenance": [],
      "authorship_tag": "ABX9TyNknYXicue+NtvpHpSorzhU",
      "include_colab_link": true
    },
    "kernelspec": {
      "name": "python3",
      "display_name": "Python 3"
    },
    "language_info": {
      "name": "python"
    }
  },
  "cells": [
    {
      "cell_type": "markdown",
      "metadata": {
        "id": "view-in-github",
        "colab_type": "text"
      },
      "source": [
        "<a href=\"https://colab.research.google.com/github/MohitGupta2021/ml/blob/main/support_vector_machines_for_classification.ipynb\" target=\"_parent\"><img src=\"https://colab.research.google.com/assets/colab-badge.svg\" alt=\"Open In Colab\"/></a>"
      ]
    },
    {
      "cell_type": "code",
      "metadata": {
        "id": "r5M1PiJJlix4"
      },
      "source": [
        "import numpy as np\n",
        "import pandas as pd\n",
        "import seaborn as sns\n",
        "import sklearn\n",
        "import matplotlib.pyplot as plt\n",
        "%matplotlib inline"
      ],
      "execution_count": 42,
      "outputs": []
    },
    {
      "cell_type": "code",
      "metadata": {
        "id": "AhXaS2tglmPB"
      },
      "source": [
        "from sklearn.datasets import load_iris\n",
        "X,y=load_iris(return_X_y=True,as_frame=True)"
      ],
      "execution_count": 43,
      "outputs": []
    },
    {
      "cell_type": "code",
      "metadata": {
        "colab": {
          "base_uri": "https://localhost:8080/",
          "height": 417
        },
        "id": "UQ4scHeWl32G",
        "outputId": "8b5883b4-b126-4ae3-c27b-b2792319d97b"
      },
      "source": [
        "X"
      ],
      "execution_count": 44,
      "outputs": [
        {
          "output_type": "execute_result",
          "data": {
            "text/html": [
              "<div>\n",
              "<style scoped>\n",
              "    .dataframe tbody tr th:only-of-type {\n",
              "        vertical-align: middle;\n",
              "    }\n",
              "\n",
              "    .dataframe tbody tr th {\n",
              "        vertical-align: top;\n",
              "    }\n",
              "\n",
              "    .dataframe thead th {\n",
              "        text-align: right;\n",
              "    }\n",
              "</style>\n",
              "<table border=\"1\" class=\"dataframe\">\n",
              "  <thead>\n",
              "    <tr style=\"text-align: right;\">\n",
              "      <th></th>\n",
              "      <th>sepal length (cm)</th>\n",
              "      <th>sepal width (cm)</th>\n",
              "      <th>petal length (cm)</th>\n",
              "      <th>petal width (cm)</th>\n",
              "    </tr>\n",
              "  </thead>\n",
              "  <tbody>\n",
              "    <tr>\n",
              "      <th>0</th>\n",
              "      <td>5.1</td>\n",
              "      <td>3.5</td>\n",
              "      <td>1.4</td>\n",
              "      <td>0.2</td>\n",
              "    </tr>\n",
              "    <tr>\n",
              "      <th>1</th>\n",
              "      <td>4.9</td>\n",
              "      <td>3.0</td>\n",
              "      <td>1.4</td>\n",
              "      <td>0.2</td>\n",
              "    </tr>\n",
              "    <tr>\n",
              "      <th>2</th>\n",
              "      <td>4.7</td>\n",
              "      <td>3.2</td>\n",
              "      <td>1.3</td>\n",
              "      <td>0.2</td>\n",
              "    </tr>\n",
              "    <tr>\n",
              "      <th>3</th>\n",
              "      <td>4.6</td>\n",
              "      <td>3.1</td>\n",
              "      <td>1.5</td>\n",
              "      <td>0.2</td>\n",
              "    </tr>\n",
              "    <tr>\n",
              "      <th>4</th>\n",
              "      <td>5.0</td>\n",
              "      <td>3.6</td>\n",
              "      <td>1.4</td>\n",
              "      <td>0.2</td>\n",
              "    </tr>\n",
              "    <tr>\n",
              "      <th>...</th>\n",
              "      <td>...</td>\n",
              "      <td>...</td>\n",
              "      <td>...</td>\n",
              "      <td>...</td>\n",
              "    </tr>\n",
              "    <tr>\n",
              "      <th>145</th>\n",
              "      <td>6.7</td>\n",
              "      <td>3.0</td>\n",
              "      <td>5.2</td>\n",
              "      <td>2.3</td>\n",
              "    </tr>\n",
              "    <tr>\n",
              "      <th>146</th>\n",
              "      <td>6.3</td>\n",
              "      <td>2.5</td>\n",
              "      <td>5.0</td>\n",
              "      <td>1.9</td>\n",
              "    </tr>\n",
              "    <tr>\n",
              "      <th>147</th>\n",
              "      <td>6.5</td>\n",
              "      <td>3.0</td>\n",
              "      <td>5.2</td>\n",
              "      <td>2.0</td>\n",
              "    </tr>\n",
              "    <tr>\n",
              "      <th>148</th>\n",
              "      <td>6.2</td>\n",
              "      <td>3.4</td>\n",
              "      <td>5.4</td>\n",
              "      <td>2.3</td>\n",
              "    </tr>\n",
              "    <tr>\n",
              "      <th>149</th>\n",
              "      <td>5.9</td>\n",
              "      <td>3.0</td>\n",
              "      <td>5.1</td>\n",
              "      <td>1.8</td>\n",
              "    </tr>\n",
              "  </tbody>\n",
              "</table>\n",
              "<p>150 rows × 4 columns</p>\n",
              "</div>"
            ],
            "text/plain": [
              "     sepal length (cm)  sepal width (cm)  petal length (cm)  petal width (cm)\n",
              "0                  5.1               3.5                1.4               0.2\n",
              "1                  4.9               3.0                1.4               0.2\n",
              "2                  4.7               3.2                1.3               0.2\n",
              "3                  4.6               3.1                1.5               0.2\n",
              "4                  5.0               3.6                1.4               0.2\n",
              "..                 ...               ...                ...               ...\n",
              "145                6.7               3.0                5.2               2.3\n",
              "146                6.3               2.5                5.0               1.9\n",
              "147                6.5               3.0                5.2               2.0\n",
              "148                6.2               3.4                5.4               2.3\n",
              "149                5.9               3.0                5.1               1.8\n",
              "\n",
              "[150 rows x 4 columns]"
            ]
          },
          "metadata": {},
          "execution_count": 44
        }
      ]
    },
    {
      "cell_type": "code",
      "metadata": {
        "colab": {
          "base_uri": "https://localhost:8080/"
        },
        "id": "X9d6tcyfl34s",
        "outputId": "48fc56ee-39e5-4a42-9661-84892044c865"
      },
      "source": [
        "y"
      ],
      "execution_count": 45,
      "outputs": [
        {
          "output_type": "execute_result",
          "data": {
            "text/plain": [
              "0      0\n",
              "1      0\n",
              "2      0\n",
              "3      0\n",
              "4      0\n",
              "      ..\n",
              "145    2\n",
              "146    2\n",
              "147    2\n",
              "148    2\n",
              "149    2\n",
              "Name: target, Length: 150, dtype: int64"
            ]
          },
          "metadata": {},
          "execution_count": 45
        }
      ]
    },
    {
      "cell_type": "code",
      "metadata": {
        "colab": {
          "base_uri": "https://localhost:8080/"
        },
        "id": "GnKVA_z7l37Q",
        "outputId": "43646b50-eda4-4b31-8500-45f18f5890b1"
      },
      "source": [
        "y.unique()"
      ],
      "execution_count": 46,
      "outputs": [
        {
          "output_type": "execute_result",
          "data": {
            "text/plain": [
              "array([0, 1, 2])"
            ]
          },
          "metadata": {},
          "execution_count": 46
        }
      ]
    },
    {
      "cell_type": "code",
      "metadata": {
        "id": "3T77WEVVl39y"
      },
      "source": [
        "from sklearn.model_selection import train_test_split\n",
        "X_train,X_test,y_train,y_test=train_test_split(X,y,test_size=0.2,random_state=20)\n"
      ],
      "execution_count": 47,
      "outputs": []
    },
    {
      "cell_type": "code",
      "metadata": {
        "colab": {
          "base_uri": "https://localhost:8080/"
        },
        "id": "kLEEjistmmsL",
        "outputId": "057f47bb-3092-4069-e2bb-b52b22afb838"
      },
      "source": [
        "len(X_test)"
      ],
      "execution_count": 48,
      "outputs": [
        {
          "output_type": "execute_result",
          "data": {
            "text/plain": [
              "30"
            ]
          },
          "metadata": {},
          "execution_count": 48
        }
      ]
    },
    {
      "cell_type": "code",
      "metadata": {
        "colab": {
          "base_uri": "https://localhost:8080/"
        },
        "id": "01Uwrh-5l4Ap",
        "outputId": "ed7ac16e-552f-4fbc-9df2-ee7a3a655972"
      },
      "source": [
        "len(X_train)"
      ],
      "execution_count": 49,
      "outputs": [
        {
          "output_type": "execute_result",
          "data": {
            "text/plain": [
              "120"
            ]
          },
          "metadata": {},
          "execution_count": 49
        }
      ]
    },
    {
      "cell_type": "code",
      "metadata": {
        "colab": {
          "base_uri": "https://localhost:8080/"
        },
        "id": "tXuey-Pll4DE",
        "outputId": "5297e4ac-063f-4ccc-f023-2201c73d1599"
      },
      "source": [
        "y_train.value_counts()"
      ],
      "execution_count": 50,
      "outputs": [
        {
          "output_type": "execute_result",
          "data": {
            "text/plain": [
              "0    42\n",
              "2    39\n",
              "1    39\n",
              "Name: target, dtype: int64"
            ]
          },
          "metadata": {},
          "execution_count": 50
        }
      ]
    },
    {
      "cell_type": "code",
      "metadata": {
        "colab": {
          "base_uri": "https://localhost:8080/",
          "height": 926
        },
        "id": "TLQ0HY52l4Fs",
        "outputId": "d5742f7c-e989-47d2-9ce8-ad14a1396b76"
      },
      "source": [
        "X_train.hist(bins=30,figsize=(20,15))"
      ],
      "execution_count": 51,
      "outputs": [
        {
          "output_type": "execute_result",
          "data": {
            "text/plain": [
              "array([[<matplotlib.axes._subplots.AxesSubplot object at 0x7f6a83748250>,\n",
              "        <matplotlib.axes._subplots.AxesSubplot object at 0x7f6a81ecb3d0>],\n",
              "       [<matplotlib.axes._subplots.AxesSubplot object at 0x7f6a81ef1f50>,\n",
              "        <matplotlib.axes._subplots.AxesSubplot object at 0x7f6a81e74590>]],\n",
              "      dtype=object)"
            ]
          },
          "metadata": {},
          "execution_count": 51
        },
        {
          "output_type": "display_data",
          "data": {
            "image/png": "[encoded data removed]",
            "text/plain": [
              "<Figure size 1440x1080 with 4 Axes>"
            ]
          },
          "metadata": {
            "needs_background": "light"
          }
        }
      ]
    },
    {
      "cell_type": "code",
      "metadata": {
        "colab": {
          "base_uri": "https://localhost:8080/",
          "height": 299
        },
        "id": "kurn1QA5l4Il",
        "outputId": "911bc2e0-dd63-44a3-ee07-948b2f40dd0b"
      },
      "source": [
        "sns.scatterplot(data=X_train,x='sepal length (cm)',y='sepal width (cm)',hue=y_train)"
      ],
      "execution_count": 52,
      "outputs": [
        {
          "output_type": "execute_result",
          "data": {
            "text/plain": [
              "<matplotlib.axes._subplots.AxesSubplot at 0x7f6a81c68890>"
            ]
          },
          "metadata": {},
          "execution_count": 52
        },
        {
          "output_type": "display_data",
          "data": {
            "image/png": "[encoded data removed]",
            "text/plain": [
              "<Figure size 432x288 with 1 Axes>"
            ]
          },
          "metadata": {
            "needs_background": "light"
          }
        }
      ]
    },
    {
      "cell_type": "code",
      "metadata": {
        "colab": {
          "base_uri": "https://localhost:8080/",
          "height": 296
        },
        "id": "DlFH43Ipl4NJ",
        "outputId": "2e6c4f4a-186e-469c-f92e-c434d68a6955"
      },
      "source": [
        "sns.scatterplot(data=X_train,x='petal length (cm)',y='petal width (cm)',hue=y_train)"
      ],
      "execution_count": 53,
      "outputs": [
        {
          "output_type": "execute_result",
          "data": {
            "text/plain": [
              "<matplotlib.axes._subplots.AxesSubplot at 0x7f6a81b85f90>"
            ]
          },
          "metadata": {},
          "execution_count": 53
        },
        {
          "output_type": "display_data",
          "data": {
            "image/png": "[encoded data removed]",
            "text/plain": [
              "<Figure size 432x288 with 1 Axes>"
            ]
          },
          "metadata": {
            "needs_background": "light"
          }
        }
      ]
    },
    {
      "cell_type": "code",
      "metadata": {
        "colab": {
          "base_uri": "https://localhost:8080/"
        },
        "id": "BM3D4Y0ql4RC",
        "outputId": "ce255da3-657e-4c4c-8455-729a9b48a6f7"
      },
      "source": [
        "X_train.describe"
      ],
      "execution_count": 54,
      "outputs": [
        {
          "output_type": "execute_result",
          "data": {
            "text/plain": [
              "<bound method NDFrame.describe of      sepal length (cm)  sepal width (cm)  petal length (cm)  petal width (cm)\n",
              "95                 5.7               3.0                4.2               1.2\n",
              "88                 5.6               3.0                4.1               1.3\n",
              "0                  5.1               3.5                1.4               0.2\n",
              "46                 5.1               3.8                1.6               0.2\n",
              "11                 4.8               3.4                1.6               0.2\n",
              "..                 ...               ...                ...               ...\n",
              "22                 4.6               3.6                1.0               0.2\n",
              "75                 6.6               3.0                4.4               1.4\n",
              "137                6.4               3.1                5.5               1.8\n",
              "15                 5.7               4.4                1.5               0.4\n",
              "99                 5.7               2.8                4.1               1.3\n",
              "\n",
              "[120 rows x 4 columns]>"
            ]
          },
          "metadata": {},
          "execution_count": 54
        }
      ]
    },
    {
      "cell_type": "code",
      "metadata": {
        "id": "pr4DYDFil4S_"
      },
      "source": [
        "from sklearn.pipeline import Pipeline\n",
        "from sklearn.preprocessing import MinMaxScaler\n",
        "scale_pipe=Pipeline([('scaler',MinMaxScaler())])\n",
        "X_train_scaled=scale_pipe.fit_transform(X_train)"
      ],
      "execution_count": 55,
      "outputs": []
    },
    {
      "cell_type": "code",
      "metadata": {
        "colab": {
          "base_uri": "https://localhost:8080/"
        },
        "id": "rXoAc3OIrakk",
        "outputId": "82f3508d-1327-4148-fe4a-b5b69e2e1682"
      },
      "source": [
        "from sklearn.svm import LinearSVC,SVC\n",
        "lin_svc=LinearSVC()\n",
        "lin_svc.fit(X_train_scaled,y_train)"
      ],
      "execution_count": 56,
      "outputs": [
        {
          "output_type": "execute_result",
          "data": {
            "text/plain": [
              "LinearSVC()"
            ]
          },
          "metadata": {},
          "execution_count": 56
        }
      ]
    },
    {
      "cell_type": "code",
      "metadata": {
        "colab": {
          "base_uri": "https://localhost:8080/"
        },
        "id": "ev41CmF6r_aw",
        "outputId": "0aa3bdfc-d43e-40a9-8e48-9f272cc8d428"
      },
      "source": [
        "poly_svc=SVC(kernel='poly')\n",
        "poly_svc.fit(X_train_scaled,y_train)"
      ],
      "execution_count": 57,
      "outputs": [
        {
          "output_type": "execute_result",
          "data": {
            "text/plain": [
              "SVC(kernel='poly')"
            ]
          },
          "metadata": {},
          "execution_count": 57
        }
      ]
    },
    {
      "cell_type": "code",
      "metadata": {
        "colab": {
          "base_uri": "https://localhost:8080/"
        },
        "id": "ooihYfIer_dw",
        "outputId": "5f6ad1d2-8294-4b19-eb34-c24511cc86a2"
      },
      "source": [
        "from sklearn.metrics import accuracy_score\n",
        "lin_pred=lin_svc.predict(X_train_scaled)\n",
        "accuracy_score(y_train,lin_pred)"
      ],
      "execution_count": 58,
      "outputs": [
        {
          "output_type": "execute_result",
          "data": {
            "text/plain": [
              "0.95"
            ]
          },
          "metadata": {},
          "execution_count": 58
        }
      ]
    },
    {
      "cell_type": "code",
      "metadata": {
        "colab": {
          "base_uri": "https://localhost:8080/"
        },
        "id": "O8IV21olsgv9",
        "outputId": "003da2b8-9a53-40c8-e57f-d656bb977b8d"
      },
      "source": [
        "poly_pred=poly_svc.predict(X_train_scaled)\n",
        "accuracy_score(y_train,poly_pred)"
      ],
      "execution_count": 59,
      "outputs": [
        {
          "output_type": "execute_result",
          "data": {
            "text/plain": [
              "0.9833333333333333"
            ]
          },
          "metadata": {},
          "execution_count": 59
        }
      ]
    },
    {
      "cell_type": "code",
      "metadata": {
        "colab": {
          "base_uri": "https://localhost:8080/"
        },
        "id": "w5GUjCMbr_g_",
        "outputId": "4104aa26-cd1f-4831-8199-7cecab696840"
      },
      "source": [
        "from sklearn.metrics import confusion_matrix,classification_report\n",
        "confusion_matrix(y_train,poly_pred)"
      ],
      "execution_count": 60,
      "outputs": [
        {
          "output_type": "execute_result",
          "data": {
            "text/plain": [
              "array([[42,  0,  0],\n",
              "       [ 0, 37,  2],\n",
              "       [ 0,  0, 39]])"
            ]
          },
          "metadata": {},
          "execution_count": 60
        }
      ]
    },
    {
      "cell_type": "code",
      "metadata": {
        "colab": {
          "base_uri": "https://localhost:8080/",
          "height": 69
        },
        "id": "27Qo7Ijhrang",
        "outputId": "6fbf24f8-e9e0-4e93-c072-c3e94cd3bd4c"
      },
      "source": [
        "classification_report(y_train,poly_pred)"
      ],
      "execution_count": 61,
      "outputs": [
        {
          "output_type": "execute_result",
          "data": {
            "application/vnd.google.colaboratory.intrinsic+json": {
              "type": "string"
            },
            "text/plain": [
              "'              precision    recall  f1-score   support\\n\\n           0       1.00      1.00      1.00        42\\n           1       1.00      0.95      0.97        39\\n           2       0.95      1.00      0.97        39\\n\\n    accuracy                           0.98       120\\n   macro avg       0.98      0.98      0.98       120\\nweighted avg       0.98      0.98      0.98       120\\n'"
            ]
          },
          "metadata": {},
          "execution_count": 61
        }
      ]
    },
    {
      "cell_type": "code",
      "metadata": {
        "colab": {
          "base_uri": "https://localhost:8080/"
        },
        "id": "CtvOEQj0raqc",
        "outputId": "170057fb-ead9-4f13-8a88-a597b7229803"
      },
      "source": [
        "from sklearn.model_selection import GridSearchCV\n",
        "\n",
        "params_grid = {'C':[0.001,10,100,1000],\n",
        "              'gamma':[1,0.1,0.01,0.001], \n",
        "                'degree':[2,3,4,5],\n",
        "              'coef0':[0,1,2,4]\n",
        "              \n",
        "              }\n",
        "\n",
        "#grid_search = GridSearchCV(estimator=SVC('poly'),params_grid, verbose=2)\n",
        "grid_search = GridSearchCV(SVC(),params_grid, verbose=2, cv=3)\n",
        "\n",
        "\n",
        "grid_search.fit(X_train_scaled, y_train)"
      ],
      "execution_count": 75,
      "outputs": [
        {
          "output_type": "stream",
          "name": "stdout",
          "text": [
            "Fitting 3 folds for each of 256 candidates, totalling 768 fits\n",
            "[CV] END ................C=0.001, coef0=0, degree=2, gamma=1; total time=   0.0s\n",
            "[CV] END ................C=0.001, coef0=0, degree=2, gamma=1; total time=   0.0s\n",
            "[CV] END ................C=0.001, coef0=0, degree=2, gamma=1; total time=   0.0s\n",
            "[CV] END ..............C=0.001, coef0=0, degree=2, gamma=0.1; total time=   0.0s\n",
            "[CV] END ..............C=0.001, coef0=0, degree=2, gamma=0.1; total time=   0.0s\n",
            "[CV] END ..............C=0.001, coef0=0, degree=2, gamma=0.1; total time=   0.0s\n",
            "[CV] END .............C=0.001, coef0=0, degree=2, gamma=0.01; total time=   0.0s\n",
            "[CV] END .............C=0.001, coef0=0, degree=2, gamma=0.01; total time=   0.0s\n",
            "[CV] END .............C=0.001, coef0=0, degree=2, gamma=0.01; total time=   0.0s\n",
            "[CV] END ............C=0.001, coef0=0, degree=2, gamma=0.001; total time=   0.0s\n",
            "[CV] END ............C=0.001, coef0=0, degree=2, gamma=0.001; total time=   0.0s\n",
            "[CV] END ............C=0.001, coef0=0, degree=2, gamma=0.001; total time=   0.0s\n",
            "[CV] END ................C=0.001, coef0=0, degree=3, gamma=1; total time=   0.0s\n",
            "[CV] END ................C=0.001, coef0=0, degree=3, gamma=1; total time=   0.0s\n",
            "[CV] END ................C=0.001, coef0=0, degree=3, gamma=1; total time=   0.0s\n",
            "[CV] END ..............C=0.001, coef0=0, degree=3, gamma=0.1; total time=   0.0s\n",
            "[CV] END ..............C=0.001, coef0=0, degree=3, gamma=0.1; total time=   0.0s\n",
            "[CV] END ..............C=0.001, coef0=0, degree=3, gamma=0.1; total time=   0.0s\n",
            "[CV] END .............C=0.001, coef0=0, degree=3, gamma=0.01; total time=   0.0s\n",
            "[CV] END .............C=0.001, coef0=0, degree=3, gamma=0.01; total time=   0.0s\n",
            "[CV] END .............C=0.001, coef0=0, degree=3, gamma=0.01; total time=   0.0s\n",
            "[CV] END ............C=0.001, coef0=0, degree=3, gamma=0.001; total time=   0.0s\n",
            "[CV] END ............C=0.001, coef0=0, degree=3, gamma=0.001; total time=   0.0s\n",
            "[CV] END ............C=0.001, coef0=0, degree=3, gamma=0.001; total time=   0.0s\n",
            "[CV] END ................C=0.001, coef0=0, degree=4, gamma=1; total time=   0.0s\n",
            "[CV] END ................C=0.001, coef0=0, degree=4, gamma=1; total time=   0.0s\n",
            "[CV] END ................C=0.001, coef0=0, degree=4, gamma=1; total time=   0.0s\n",
            "[CV] END ..............C=0.001, coef0=0, degree=4, gamma=0.1; total time=   0.0s\n",
            "[CV] END ..............C=0.001, coef0=0, degree=4, gamma=0.1; total time=   0.0s\n",
            "[CV] END ..............C=0.001, coef0=0, degree=4, gamma=0.1; total time=   0.0s\n",
            "[CV] END .............C=0.001, coef0=0, degree=4, gamma=0.01; total time=   0.0s\n",
            "[CV] END .............C=0.001, coef0=0, degree=4, gamma=0.01; total time=   0.0s\n",
            "[CV] END .............C=0.001, coef0=0, degree=4, gamma=0.01; total time=   0.0s\n",
            "[CV] END ............C=0.001, coef0=0, degree=4, gamma=0.001; total time=   0.0s\n",
            "[CV] END ............C=0.001, coef0=0, degree=4, gamma=0.001; total time=   0.0s\n",
            "[CV] END ............C=0.001, coef0=0, degree=4, gamma=0.001; total time=   0.0s\n",
            "[CV] END ................C=0.001, coef0=0, degree=5, gamma=1; total time=   0.0s\n",
            "[CV] END ................C=0.001, coef0=0, degree=5, gamma=1; total time=   0.0s\n",
            "[CV] END ................C=0.001, coef0=0, degree=5, gamma=1; total time=   0.0s\n",
            "[CV] END ..............C=0.001, coef0=0, degree=5, gamma=0.1; total time=   0.0s\n",
            "[CV] END ..............C=0.001, coef0=0, degree=5, gamma=0.1; total time=   0.0s\n",
            "[CV] END ..............C=0.001, coef0=0, degree=5, gamma=0.1; total time=   0.0s\n",
            "[CV] END .............C=0.001, coef0=0, degree=5, gamma=0.01; total time=   0.0s\n",
            "[CV] END .............C=0.001, coef0=0, degree=5, gamma=0.01; total time=   0.0s\n",
            "[CV] END .............C=0.001, coef0=0, degree=5, gamma=0.01; total time=   0.0s\n",
            "[CV] END ............C=0.001, coef0=0, degree=5, gamma=0.001; total time=   0.0s\n",
            "[CV] END ............C=0.001, coef0=0, degree=5, gamma=0.001; total time=   0.0s\n",
            "[CV] END ............C=0.001, coef0=0, degree=5, gamma=0.001; total time=   0.0s\n",
            "[CV] END ................C=0.001, coef0=1, degree=2, gamma=1; total time=   0.0s\n",
            "[CV] END ................C=0.001, coef0=1, degree=2, gamma=1; total time=   0.0s\n",
            "[CV] END ................C=0.001, coef0=1, degree=2, gamma=1; total time=   0.0s\n",
            "[CV] END ..............C=0.001, coef0=1, degree=2, gamma=0.1; total time=   0.0s\n",
            "[CV] END ..............C=0.001, coef0=1, degree=2, gamma=0.1; total time=   0.0s\n",
            "[CV] END ..............C=0.001, coef0=1, degree=2, gamma=0.1; total time=   0.0s\n",
            "[CV] END .............C=0.001, coef0=1, degree=2, gamma=0.01; total time=   0.0s\n",
            "[CV] END .............C=0.001, coef0=1, degree=2, gamma=0.01; total time=   0.0s\n",
            "[CV] END .............C=0.001, coef0=1, degree=2, gamma=0.01; total time=   0.0s\n",
            "[CV] END ............C=0.001, coef0=1, degree=2, gamma=0.001; total time=   0.0s\n",
            "[CV] END ............C=0.001, coef0=1, degree=2, gamma=0.001; total time=   0.0s\n",
            "[CV] END ............C=0.001, coef0=1, degree=2, gamma=0.001; total time=   0.0s\n",
            "[CV] END ................C=0.001, coef0=1, degree=3, gamma=1; total time=   0.0s\n",
            "[CV] END ................C=0.001, coef0=1, degree=3, gamma=1; total time=   0.0s\n",
            "[CV] END ................C=0.001, coef0=1, degree=3, gamma=1; total time=   0.0s\n",
            "[CV] END ..............C=0.001, coef0=1, degree=3, gamma=0.1; total time=   0.0s\n",
            "[CV] END ..............C=0.001, coef0=1, degree=3, gamma=0.1; total time=   0.0s\n",
            "[CV] END ..............C=0.001, coef0=1, degree=3, gamma=0.1; total time=   0.0s\n",
            "[CV] END .............C=0.001, coef0=1, degree=3, gamma=0.01; total time=   0.0s\n",
            "[CV] END .............C=0.001, coef0=1, degree=3, gamma=0.01; total time=   0.0s\n",
            "[CV] END .............C=0.001, coef0=1, degree=3, gamma=0.01; total time=   0.0s\n",
            "[CV] END ............C=0.001, coef0=1, degree=3, gamma=0.001; total time=   0.0s\n",
            "[CV] END ............C=0.001, coef0=1, degree=3, gamma=0.001; total time=   0.0s\n",
            "[CV] END ............C=0.001, coef0=1, degree=3, gamma=0.001; total time=   0.0s\n",
            "[CV] END ................C=0.001, coef0=1, degree=4, gamma=1; total time=   0.0s\n",
            "[CV] END ................C=0.001, coef0=1, degree=4, gamma=1; total time=   0.0s\n",
            "[CV] END ................C=0.001, coef0=1, degree=4, gamma=1; total time=   0.0s\n",
            "[CV] END ..............C=0.001, coef0=1, degree=4, gamma=0.1; total time=   0.0s\n",
            "[CV] END ..............C=0.001, coef0=1, degree=4, gamma=0.1; total time=   0.0s\n",
            "[CV] END ..............C=0.001, coef0=1, degree=4, gamma=0.1; total time=   0.0s\n",
            "[CV] END .............C=0.001, coef0=1, degree=4, gamma=0.01; total time=   0.0s\n",
            "[CV] END .............C=0.001, coef0=1, degree=4, gamma=0.01; total time=   0.0s\n",
            "[CV] END .............C=0.001, coef0=1, degree=4, gamma=0.01; total time=   0.0s\n",
            "[CV] END ............C=0.001, coef0=1, degree=4, gamma=0.001; total time=   0.0s\n",
            "[CV] END ............C=0.001, coef0=1, degree=4, gamma=0.001; total time=   0.0s\n",
            "[CV] END ............C=0.001, coef0=1, degree=4, gamma=0.001; total time=   0.0s\n",
            "[CV] END ................C=0.001, coef0=1, degree=5, gamma=1; total time=   0.0s\n",
            "[CV] END ................C=0.001, coef0=1, degree=5, gamma=1; total time=   0.0s\n",
            "[CV] END ................C=0.001, coef0=1, degree=5, gamma=1; total time=   0.0s\n",
            "[CV] END ..............C=0.001, coef0=1, degree=5, gamma=0.1; total time=   0.0s\n",
            "[CV] END ..............C=0.001, coef0=1, degree=5, gamma=0.1; total time=   0.0s\n",
            "[CV] END ..............C=0.001, coef0=1, degree=5, gamma=0.1; total time=   0.0s\n",
            "[CV] END .............C=0.001, coef0=1, degree=5, gamma=0.01; total time=   0.0s\n",
            "[CV] END .............C=0.001, coef0=1, degree=5, gamma=0.01; total time=   0.0s\n",
            "[CV] END .............C=0.001, coef0=1, degree=5, gamma=0.01; total time=   0.0s\n",
            "[CV] END ............C=0.001, coef0=1, degree=5, gamma=0.001; total time=   0.0s\n",
            "[CV] END ............C=0.001, coef0=1, degree=5, gamma=0.001; total time=   0.0s\n",
            "[CV] END ............C=0.001, coef0=1, degree=5, gamma=0.001; total time=   0.0s\n",
            "[CV] END ................C=0.001, coef0=2, degree=2, gamma=1; total time=   0.0s\n",
            "[CV] END ................C=0.001, coef0=2, degree=2, gamma=1; total time=   0.0s\n",
            "[CV] END ................C=0.001, coef0=2, degree=2, gamma=1; total time=   0.0s\n",
            "[CV] END ..............C=0.001, coef0=2, degree=2, gamma=0.1; total time=   0.0s\n",
            "[CV] END ..............C=0.001, coef0=2, degree=2, gamma=0.1; total time=   0.0s\n",
            "[CV] END ..............C=0.001, coef0=2, degree=2, gamma=0.1; total time=   0.0s\n",
            "[CV] END .............C=0.001, coef0=2, degree=2, gamma=0.01; total time=   0.0s\n",
            "[CV] END .............C=0.001, coef0=2, degree=2, gamma=0.01; total time=   0.0s\n",
            "[CV] END .............C=0.001, coef0=2, degree=2, gamma=0.01; total time=   0.0s\n",
            "[CV] END ............C=0.001, coef0=2, degree=2, gamma=0.001; total time=   0.0s\n",
            "[CV] END ............C=0.001, coef0=2, degree=2, gamma=0.001; total time=   0.0s\n",
            "[CV] END ............C=0.001, coef0=2, degree=2, gamma=0.001; total time=   0.0s\n",
            "[CV] END ................C=0.001, coef0=2, degree=3, gamma=1; total time=   0.0s\n",
            "[CV] END ................C=0.001, coef0=2, degree=3, gamma=1; total time=   0.0s\n",
            "[CV] END ................C=0.001, coef0=2, degree=3, gamma=1; total time=   0.0s\n",
            "[CV] END ..............C=0.001, coef0=2, degree=3, gamma=0.1; total time=   0.0s\n",
            "[CV] END ..............C=0.001, coef0=2, degree=3, gamma=0.1; total time=   0.0s\n",
            "[CV] END ..............C=0.001, coef0=2, degree=3, gamma=0.1; total time=   0.0s\n",
            "[CV] END .............C=0.001, coef0=2, degree=3, gamma=0.01; total time=   0.0s\n",
            "[CV] END .............C=0.001, coef0=2, degree=3, gamma=0.01; total time=   0.0s\n",
            "[CV] END .............C=0.001, coef0=2, degree=3, gamma=0.01; total time=   0.0s\n",
            "[CV] END ............C=0.001, coef0=2, degree=3, gamma=0.001; total time=   0.0s\n",
            "[CV] END ............C=0.001, coef0=2, degree=3, gamma=0.001; total time=   0.0s\n",
            "[CV] END ............C=0.001, coef0=2, degree=3, gamma=0.001; total time=   0.0s\n",
            "[CV] END ................C=0.001, coef0=2, degree=4, gamma=1; total time=   0.0s\n",
            "[CV] END ................C=0.001, coef0=2, degree=4, gamma=1; total time=   0.0s\n",
            "[CV] END ................C=0.001, coef0=2, degree=4, gamma=1; total time=   0.0s\n",
            "[CV] END ..............C=0.001, coef0=2, degree=4, gamma=0.1; total time=   0.0s\n",
            "[CV] END ..............C=0.001, coef0=2, degree=4, gamma=0.1; total time=   0.0s\n",
            "[CV] END ..............C=0.001, coef0=2, degree=4, gamma=0.1; total time=   0.0s\n",
            "[CV] END .............C=0.001, coef0=2, degree=4, gamma=0.01; total time=   0.0s\n",
            "[CV] END .............C=0.001, coef0=2, degree=4, gamma=0.01; total time=   0.0s\n",
            "[CV] END .............C=0.001, coef0=2, degree=4, gamma=0.01; total time=   0.0s\n",
            "[CV] END ............C=0.001, coef0=2, degree=4, gamma=0.001; total time=   0.0s\n",
            "[CV] END ............C=0.001, coef0=2, degree=4, gamma=0.001; total time=   0.0s\n",
            "[CV] END ............C=0.001, coef0=2, degree=4, gamma=0.001; total time=   0.0s\n",
            "[CV] END ................C=0.001, coef0=2, degree=5, gamma=1; total time=   0.0s\n",
            "[CV] END ................C=0.001, coef0=2, degree=5, gamma=1; total time=   0.0s\n",
            "[CV] END ................C=0.001, coef0=2, degree=5, gamma=1; total time=   0.0s\n",
            "[CV] END ..............C=0.001, coef0=2, degree=5, gamma=0.1; total time=   0.0s\n",
            "[CV] END ..............C=0.001, coef0=2, degree=5, gamma=0.1; total time=   0.0s\n",
            "[CV] END ..............C=0.001, coef0=2, degree=5, gamma=0.1; total time=   0.0s\n",
            "[CV] END .............C=0.001, coef0=2, degree=5, gamma=0.01; total time=   0.0s\n",
            "[CV] END .............C=0.001, coef0=2, degree=5, gamma=0.01; total time=   0.0s\n",
            "[CV] END .............C=0.001, coef0=2, degree=5, gamma=0.01; total time=   0.0s\n",
            "[CV] END ............C=0.001, coef0=2, degree=5, gamma=0.001; total time=   0.0s\n",
            "[CV] END ............C=0.001, coef0=2, degree=5, gamma=0.001; total time=   0.0s\n",
            "[CV] END ............C=0.001, coef0=2, degree=5, gamma=0.001; total time=   0.0s\n",
            "[CV] END ................C=0.001, coef0=4, degree=2, gamma=1; total time=   0.0s\n",
            "[CV] END ................C=0.001, coef0=4, degree=2, gamma=1; total time=   0.0s\n",
            "[CV] END ................C=0.001, coef0=4, degree=2, gamma=1; total time=   0.0s\n",
            "[CV] END ..............C=0.001, coef0=4, degree=2, gamma=0.1; total time=   0.0s\n",
            "[CV] END ..............C=0.001, coef0=4, degree=2, gamma=0.1; total time=   0.0s\n",
            "[CV] END ..............C=0.001, coef0=4, degree=2, gamma=0.1; total time=   0.0s\n",
            "[CV] END .............C=0.001, coef0=4, degree=2, gamma=0.01; total time=   0.0s\n",
            "[CV] END .............C=0.001, coef0=4, degree=2, gamma=0.01; total time=   0.0s\n",
            "[CV] END .............C=0.001, coef0=4, degree=2, gamma=0.01; total time=   0.0s\n",
            "[CV] END ............C=0.001, coef0=4, degree=2, gamma=0.001; total time=   0.0s\n",
            "[CV] END ............C=0.001, coef0=4, degree=2, gamma=0.001; total time=   0.0s\n",
            "[CV] END ............C=0.001, coef0=4, degree=2, gamma=0.001; total time=   0.0s\n",
            "[CV] END ................C=0.001, coef0=4, degree=3, gamma=1; total time=   0.0s\n",
            "[CV] END ................C=0.001, coef0=4, degree=3, gamma=1; total time=   0.0s\n",
            "[CV] END ................C=0.001, coef0=4, degree=3, gamma=1; total time=   0.0s\n",
            "[CV] END ..............C=0.001, coef0=4, degree=3, gamma=0.1; total time=   0.0s\n",
            "[CV] END ..............C=0.001, coef0=4, degree=3, gamma=0.1; total time=   0.0s\n",
            "[CV] END ..............C=0.001, coef0=4, degree=3, gamma=0.1; total time=   0.0s\n",
            "[CV] END .............C=0.001, coef0=4, degree=3, gamma=0.01; total time=   0.0s\n",
            "[CV] END .............C=0.001, coef0=4, degree=3, gamma=0.01; total time=   0.0s\n",
            "[CV] END .............C=0.001, coef0=4, degree=3, gamma=0.01; total time=   0.0s\n",
            "[CV] END ............C=0.001, coef0=4, degree=3, gamma=0.001; total time=   0.0s\n",
            "[CV] END ............C=0.001, coef0=4, degree=3, gamma=0.001; total time=   0.0s\n",
            "[CV] END ............C=0.001, coef0=4, degree=3, gamma=0.001; total time=   0.0s\n",
            "[CV] END ................C=0.001, coef0=4, degree=4, gamma=1; total time=   0.0s\n",
            "[CV] END ................C=0.001, coef0=4, degree=4, gamma=1; total time=   0.0s\n",
            "[CV] END ................C=0.001, coef0=4, degree=4, gamma=1; total time=   0.0s\n",
            "[CV] END ..............C=0.001, coef0=4, degree=4, gamma=0.1; total time=   0.0s\n",
            "[CV] END ..............C=0.001, coef0=4, degree=4, gamma=0.1; total time=   0.0s\n",
            "[CV] END ..............C=0.001, coef0=4, degree=4, gamma=0.1; total time=   0.0s\n",
            "[CV] END .............C=0.001, coef0=4, degree=4, gamma=0.01; total time=   0.0s\n",
            "[CV] END .............C=0.001, coef0=4, degree=4, gamma=0.01; total time=   0.0s\n",
            "[CV] END .............C=0.001, coef0=4, degree=4, gamma=0.01; total time=   0.0s\n",
            "[CV] END ............C=0.001, coef0=4, degree=4, gamma=0.001; total time=   0.0s\n",
            "[CV] END ............C=0.001, coef0=4, degree=4, gamma=0.001; total time=   0.0s\n",
            "[CV] END ............C=0.001, coef0=4, degree=4, gamma=0.001; total time=   0.0s\n",
            "[CV] END ................C=0.001, coef0=4, degree=5, gamma=1; total time=   0.0s\n",
            "[CV] END ................C=0.001, coef0=4, degree=5, gamma=1; total time=   0.0s\n",
            "[CV] END ................C=0.001, coef0=4, degree=5, gamma=1; total time=   0.0s\n",
            "[CV] END ..............C=0.001, coef0=4, degree=5, gamma=0.1; total time=   0.0s\n",
            "[CV] END ..............C=0.001, coef0=4, degree=5, gamma=0.1; total time=   0.0s\n",
            "[CV] END ..............C=0.001, coef0=4, degree=5, gamma=0.1; total time=   0.0s\n",
            "[CV] END .............C=0.001, coef0=4, degree=5, gamma=0.01; total time=   0.0s\n",
            "[CV] END .............C=0.001, coef0=4, degree=5, gamma=0.01; total time=   0.0s\n",
            "[CV] END .............C=0.001, coef0=4, degree=5, gamma=0.01; total time=   0.0s\n",
            "[CV] END ............C=0.001, coef0=4, degree=5, gamma=0.001; total time=   0.0s\n",
            "[CV] END ............C=0.001, coef0=4, degree=5, gamma=0.001; total time=   0.0s\n",
            "[CV] END ............C=0.001, coef0=4, degree=5, gamma=0.001; total time=   0.0s\n",
            "[CV] END ...................C=10, coef0=0, degree=2, gamma=1; total time=   0.0s\n",
            "[CV] END ...................C=10, coef0=0, degree=2, gamma=1; total time=   0.0s\n",
            "[CV] END ...................C=10, coef0=0, degree=2, gamma=1; total time=   0.0s\n",
            "[CV] END .................C=10, coef0=0, degree=2, gamma=0.1; total time=   0.0s\n",
            "[CV] END .................C=10, coef0=0, degree=2, gamma=0.1; total time=   0.0s\n",
            "[CV] END .................C=10, coef0=0, degree=2, gamma=0.1; total time=   0.0s\n",
            "[CV] END ................C=10, coef0=0, degree=2, gamma=0.01; total time=   0.0s\n",
            "[CV] END ................C=10, coef0=0, degree=2, gamma=0.01; total time=   0.0s\n",
            "[CV] END ................C=10, coef0=0, degree=2, gamma=0.01; total time=   0.0s\n",
            "[CV] END ...............C=10, coef0=0, degree=2, gamma=0.001; total time=   0.0s\n",
            "[CV] END ...............C=10, coef0=0, degree=2, gamma=0.001; total time=   0.0s\n",
            "[CV] END ...............C=10, coef0=0, degree=2, gamma=0.001; total time=   0.0s\n",
            "[CV] END ...................C=10, coef0=0, degree=3, gamma=1; total time=   0.0s\n",
            "[CV] END ...................C=10, coef0=0, degree=3, gamma=1; total time=   0.0s\n",
            "[CV] END ...................C=10, coef0=0, degree=3, gamma=1; total time=   0.0s\n",
            "[CV] END .................C=10, coef0=0, degree=3, gamma=0.1; total time=   0.0s\n",
            "[CV] END .................C=10, coef0=0, degree=3, gamma=0.1; total time=   0.0s\n",
            "[CV] END .................C=10, coef0=0, degree=3, gamma=0.1; total time=   0.0s\n",
            "[CV] END ................C=10, coef0=0, degree=3, gamma=0.01; total time=   0.0s\n",
            "[CV] END ................C=10, coef0=0, degree=3, gamma=0.01; total time=   0.0s\n",
            "[CV] END ................C=10, coef0=0, degree=3, gamma=0.01; total time=   0.0s\n",
            "[CV] END ...............C=10, coef0=0, degree=3, gamma=0.001; total time=   0.0s\n",
            "[CV] END ...............C=10, coef0=0, degree=3, gamma=0.001; total time=   0.0s\n",
            "[CV] END ...............C=10, coef0=0, degree=3, gamma=0.001; total time=   0.0s\n",
            "[CV] END ...................C=10, coef0=0, degree=4, gamma=1; total time=   0.0s\n",
            "[CV] END ...................C=10, coef0=0, degree=4, gamma=1; total time=   0.0s\n",
            "[CV] END ...................C=10, coef0=0, degree=4, gamma=1; total time=   0.0s\n",
            "[CV] END .................C=10, coef0=0, degree=4, gamma=0.1; total time=   0.0s\n",
            "[CV] END .................C=10, coef0=0, degree=4, gamma=0.1; total time=   0.0s\n",
            "[CV] END .................C=10, coef0=0, degree=4, gamma=0.1; total time=   0.0s\n",
            "[CV] END ................C=10, coef0=0, degree=4, gamma=0.01; total time=   0.0s\n",
            "[CV] END ................C=10, coef0=0, degree=4, gamma=0.01; total time=   0.0s\n",
            "[CV] END ................C=10, coef0=0, degree=4, gamma=0.01; total time=   0.0s\n",
            "[CV] END ...............C=10, coef0=0, degree=4, gamma=0.001; total time=   0.0s\n",
            "[CV] END ...............C=10, coef0=0, degree=4, gamma=0.001; total time=   0.0s\n",
            "[CV] END ...............C=10, coef0=0, degree=4, gamma=0.001; total time=   0.0s\n",
            "[CV] END ...................C=10, coef0=0, degree=5, gamma=1; total time=   0.0s\n",
            "[CV] END ...................C=10, coef0=0, degree=5, gamma=1; total time=   0.0s\n",
            "[CV] END ...................C=10, coef0=0, degree=5, gamma=1; total time=   0.0s\n",
            "[CV] END .................C=10, coef0=0, degree=5, gamma=0.1; total time=   0.0s\n",
            "[CV] END .................C=10, coef0=0, degree=5, gamma=0.1; total time=   0.0s\n",
            "[CV] END .................C=10, coef0=0, degree=5, gamma=0.1; total time=   0.0s\n",
            "[CV] END ................C=10, coef0=0, degree=5, gamma=0.01; total time=   0.0s\n",
            "[CV] END ................C=10, coef0=0, degree=5, gamma=0.01; total time=   0.0s\n",
            "[CV] END ................C=10, coef0=0, degree=5, gamma=0.01; total time=   0.0s\n",
            "[CV] END ...............C=10, coef0=0, degree=5, gamma=0.001; total time=   0.0s\n",
            "[CV] END ...............C=10, coef0=0, degree=5, gamma=0.001; total time=   0.0s\n",
            "[CV] END ...............C=10, coef0=0, degree=5, gamma=0.001; total time=   0.0s\n",
            "[CV] END ...................C=10, coef0=1, degree=2, gamma=1; total time=   0.0s\n",
            "[CV] END ...................C=10, coef0=1, degree=2, gamma=1; total time=   0.0s\n",
            "[CV] END ...................C=10, coef0=1, degree=2, gamma=1; total time=   0.0s\n",
            "[CV] END .................C=10, coef0=1, degree=2, gamma=0.1; total time=   0.0s\n",
            "[CV] END .................C=10, coef0=1, degree=2, gamma=0.1; total time=   0.0s\n",
            "[CV] END .................C=10, coef0=1, degree=2, gamma=0.1; total time=   0.0s\n",
            "[CV] END ................C=10, coef0=1, degree=2, gamma=0.01; total time=   0.0s\n",
            "[CV] END ................C=10, coef0=1, degree=2, gamma=0.01; total time=   0.0s\n",
            "[CV] END ................C=10, coef0=1, degree=2, gamma=0.01; total time=   0.0s\n",
            "[CV] END ...............C=10, coef0=1, degree=2, gamma=0.001; total time=   0.0s\n",
            "[CV] END ...............C=10, coef0=1, degree=2, gamma=0.001; total time=   0.0s\n",
            "[CV] END ...............C=10, coef0=1, degree=2, gamma=0.001; total time=   0.0s\n",
            "[CV] END ...................C=10, coef0=1, degree=3, gamma=1; total time=   0.0s\n",
            "[CV] END ...................C=10, coef0=1, degree=3, gamma=1; total time=   0.0s\n",
            "[CV] END ...................C=10, coef0=1, degree=3, gamma=1; total time=   0.0s\n",
            "[CV] END .................C=10, coef0=1, degree=3, gamma=0.1; total time=   0.0s\n",
            "[CV] END .................C=10, coef0=1, degree=3, gamma=0.1; total time=   0.0s\n",
            "[CV] END .................C=10, coef0=1, degree=3, gamma=0.1; total time=   0.0s\n",
            "[CV] END ................C=10, coef0=1, degree=3, gamma=0.01; total time=   0.0s\n",
            "[CV] END ................C=10, coef0=1, degree=3, gamma=0.01; total time=   0.0s\n",
            "[CV] END ................C=10, coef0=1, degree=3, gamma=0.01; total time=   0.0s\n",
            "[CV] END ...............C=10, coef0=1, degree=3, gamma=0.001; total time=   0.0s\n",
            "[CV] END ...............C=10, coef0=1, degree=3, gamma=0.001; total time=   0.0s\n",
            "[CV] END ...............C=10, coef0=1, degree=3, gamma=0.001; total time=   0.0s\n",
            "[CV] END ...................C=10, coef0=1, degree=4, gamma=1; total time=   0.0s\n",
            "[CV] END ...................C=10, coef0=1, degree=4, gamma=1; total time=   0.0s\n",
            "[CV] END ...................C=10, coef0=1, degree=4, gamma=1; total time=   0.0s\n",
            "[CV] END .................C=10, coef0=1, degree=4, gamma=0.1; total time=   0.0s\n",
            "[CV] END .................C=10, coef0=1, degree=4, gamma=0.1; total time=   0.0s\n",
            "[CV] END .................C=10, coef0=1, degree=4, gamma=0.1; total time=   0.0s\n",
            "[CV] END ................C=10, coef0=1, degree=4, gamma=0.01; total time=   0.0s\n",
            "[CV] END ................C=10, coef0=1, degree=4, gamma=0.01; total time=   0.0s\n",
            "[CV] END ................C=10, coef0=1, degree=4, gamma=0.01; total time=   0.0s\n",
            "[CV] END ...............C=10, coef0=1, degree=4, gamma=0.001; total time=   0.0s\n",
            "[CV] END ...............C=10, coef0=1, degree=4, gamma=0.001; total time=   0.0s\n",
            "[CV] END ...............C=10, coef0=1, degree=4, gamma=0.001; total time=   0.0s\n",
            "[CV] END ...................C=10, coef0=1, degree=5, gamma=1; total time=   0.0s\n",
            "[CV] END ...................C=10, coef0=1, degree=5, gamma=1; total time=   0.0s\n",
            "[CV] END ...................C=10, coef0=1, degree=5, gamma=1; total time=   0.0s\n",
            "[CV] END .................C=10, coef0=1, degree=5, gamma=0.1; total time=   0.0s\n",
            "[CV] END .................C=10, coef0=1, degree=5, gamma=0.1; total time=   0.0s\n",
            "[CV] END .................C=10, coef0=1, degree=5, gamma=0.1; total time=   0.0s\n",
            "[CV] END ................C=10, coef0=1, degree=5, gamma=0.01; total time=   0.0s\n",
            "[CV] END ................C=10, coef0=1, degree=5, gamma=0.01; total time=   0.0s\n",
            "[CV] END ................C=10, coef0=1, degree=5, gamma=0.01; total time=   0.0s\n",
            "[CV] END ...............C=10, coef0=1, degree=5, gamma=0.001; total time=   0.0s\n",
            "[CV] END ...............C=10, coef0=1, degree=5, gamma=0.001; total time=   0.0s\n",
            "[CV] END ...............C=10, coef0=1, degree=5, gamma=0.001; total time=   0.0s\n",
            "[CV] END ...................C=10, coef0=2, degree=2, gamma=1; total time=   0.0s\n",
            "[CV] END ...................C=10, coef0=2, degree=2, gamma=1; total time=   0.0s\n",
            "[CV] END ...................C=10, coef0=2, degree=2, gamma=1; total time=   0.0s\n",
            "[CV] END .................C=10, coef0=2, degree=2, gamma=0.1; total time=   0.0s\n",
            "[CV] END .................C=10, coef0=2, degree=2, gamma=0.1; total time=   0.0s\n",
            "[CV] END .................C=10, coef0=2, degree=2, gamma=0.1; total time=   0.0s\n",
            "[CV] END ................C=10, coef0=2, degree=2, gamma=0.01; total time=   0.0s\n",
            "[CV] END ................C=10, coef0=2, degree=2, gamma=0.01; total time=   0.0s\n",
            "[CV] END ................C=10, coef0=2, degree=2, gamma=0.01; total time=   0.0s\n",
            "[CV] END ...............C=10, coef0=2, degree=2, gamma=0.001; total time=   0.0s\n",
            "[CV] END ...............C=10, coef0=2, degree=2, gamma=0.001; total time=   0.0s\n",
            "[CV] END ...............C=10, coef0=2, degree=2, gamma=0.001; total time=   0.0s\n",
            "[CV] END ...................C=10, coef0=2, degree=3, gamma=1; total time=   0.0s\n",
            "[CV] END ...................C=10, coef0=2, degree=3, gamma=1; total time=   0.0s\n",
            "[CV] END ...................C=10, coef0=2, degree=3, gamma=1; total time=   0.0s\n",
            "[CV] END .................C=10, coef0=2, degree=3, gamma=0.1; total time=   0.0s\n",
            "[CV] END .................C=10, coef0=2, degree=3, gamma=0.1; total time=   0.0s\n",
            "[CV] END .................C=10, coef0=2, degree=3, gamma=0.1; total time=   0.0s\n",
            "[CV] END ................C=10, coef0=2, degree=3, gamma=0.01; total time=   0.0s\n",
            "[CV] END ................C=10, coef0=2, degree=3, gamma=0.01; total time=   0.0s\n",
            "[CV] END ................C=10, coef0=2, degree=3, gamma=0.01; total time=   0.0s\n",
            "[CV] END ...............C=10, coef0=2, degree=3, gamma=0.001; total time=   0.0s\n",
            "[CV] END ...............C=10, coef0=2, degree=3, gamma=0.001; total time=   0.0s\n",
            "[CV] END ...............C=10, coef0=2, degree=3, gamma=0.001; total time=   0.0s\n",
            "[CV] END ...................C=10, coef0=2, degree=4, gamma=1; total time=   0.0s\n",
            "[CV] END ...................C=10, coef0=2, degree=4, gamma=1; total time=   0.0s\n",
            "[CV] END ...................C=10, coef0=2, degree=4, gamma=1; total time=   0.0s\n",
            "[CV] END .................C=10, coef0=2, degree=4, gamma=0.1; total time=   0.0s\n",
            "[CV] END .................C=10, coef0=2, degree=4, gamma=0.1; total time=   0.0s\n",
            "[CV] END .................C=10, coef0=2, degree=4, gamma=0.1; total time=   0.0s\n",
            "[CV] END ................C=10, coef0=2, degree=4, gamma=0.01; total time=   0.0s\n",
            "[CV] END ................C=10, coef0=2, degree=4, gamma=0.01; total time=   0.0s\n",
            "[CV] END ................C=10, coef0=2, degree=4, gamma=0.01; total time=   0.0s\n",
            "[CV] END ...............C=10, coef0=2, degree=4, gamma=0.001; total time=   0.0s\n",
            "[CV] END ...............C=10, coef0=2, degree=4, gamma=0.001; total time=   0.0s\n",
            "[CV] END ...............C=10, coef0=2, degree=4, gamma=0.001; total time=   0.0s\n",
            "[CV] END ...................C=10, coef0=2, degree=5, gamma=1; total time=   0.0s\n",
            "[CV] END ...................C=10, coef0=2, degree=5, gamma=1; total time=   0.0s\n",
            "[CV] END ...................C=10, coef0=2, degree=5, gamma=1; total time=   0.0s\n",
            "[CV] END .................C=10, coef0=2, degree=5, gamma=0.1; total time=   0.0s\n",
            "[CV] END .................C=10, coef0=2, degree=5, gamma=0.1; total time=   0.0s\n",
            "[CV] END .................C=10, coef0=2, degree=5, gamma=0.1; total time=   0.0s\n",
            "[CV] END ................C=10, coef0=2, degree=5, gamma=0.01; total time=   0.0s\n",
            "[CV] END ................C=10, coef0=2, degree=5, gamma=0.01; total time=   0.0s\n",
            "[CV] END ................C=10, coef0=2, degree=5, gamma=0.01; total time=   0.0s\n",
            "[CV] END ...............C=10, coef0=2, degree=5, gamma=0.001; total time=   0.0s\n",
            "[CV] END ...............C=10, coef0=2, degree=5, gamma=0.001; total time=   0.0s\n",
            "[CV] END ...............C=10, coef0=2, degree=5, gamma=0.001; total time=   0.0s\n",
            "[CV] END ...................C=10, coef0=4, degree=2, gamma=1; total time=   0.0s\n",
            "[CV] END ...................C=10, coef0=4, degree=2, gamma=1; total time=   0.0s\n",
            "[CV] END ...................C=10, coef0=4, degree=2, gamma=1; total time=   0.0s\n",
            "[CV] END .................C=10, coef0=4, degree=2, gamma=0.1; total time=   0.0s\n",
            "[CV] END .................C=10, coef0=4, degree=2, gamma=0.1; total time=   0.0s\n",
            "[CV] END .................C=10, coef0=4, degree=2, gamma=0.1; total time=   0.0s\n",
            "[CV] END ................C=10, coef0=4, degree=2, gamma=0.01; total time=   0.0s\n",
            "[CV] END ................C=10, coef0=4, degree=2, gamma=0.01; total time=   0.0s\n",
            "[CV] END ................C=10, coef0=4, degree=2, gamma=0.01; total time=   0.0s\n",
            "[CV] END ...............C=10, coef0=4, degree=2, gamma=0.001; total time=   0.0s\n",
            "[CV] END ...............C=10, coef0=4, degree=2, gamma=0.001; total time=   0.0s\n",
            "[CV] END ...............C=10, coef0=4, degree=2, gamma=0.001; total time=   0.0s\n",
            "[CV] END ...................C=10, coef0=4, degree=3, gamma=1; total time=   0.0s\n",
            "[CV] END ...................C=10, coef0=4, degree=3, gamma=1; total time=   0.0s\n",
            "[CV] END ...................C=10, coef0=4, degree=3, gamma=1; total time=   0.0s\n",
            "[CV] END .................C=10, coef0=4, degree=3, gamma=0.1; total time=   0.0s\n",
            "[CV] END .................C=10, coef0=4, degree=3, gamma=0.1; total time=   0.0s\n",
            "[CV] END .................C=10, coef0=4, degree=3, gamma=0.1; total time=   0.0s\n",
            "[CV] END ................C=10, coef0=4, degree=3, gamma=0.01; total time=   0.0s\n",
            "[CV] END ................C=10, coef0=4, degree=3, gamma=0.01; total time=   0.0s\n",
            "[CV] END ................C=10, coef0=4, degree=3, gamma=0.01; total time=   0.0s\n",
            "[CV] END ...............C=10, coef0=4, degree=3, gamma=0.001; total time=   0.0s\n",
            "[CV] END ...............C=10, coef0=4, degree=3, gamma=0.001; total time=   0.0s\n",
            "[CV] END ...............C=10, coef0=4, degree=3, gamma=0.001; total time=   0.0s\n",
            "[CV] END ...................C=10, coef0=4, degree=4, gamma=1; total time=   0.0s\n",
            "[CV] END ...................C=10, coef0=4, degree=4, gamma=1; total time=   0.0s\n",
            "[CV] END ...................C=10, coef0=4, degree=4, gamma=1; total time=   0.0s\n",
            "[CV] END .................C=10, coef0=4, degree=4, gamma=0.1; total time=   0.0s\n",
            "[CV] END .................C=10, coef0=4, degree=4, gamma=0.1; total time=   0.0s\n",
            "[CV] END .................C=10, coef0=4, degree=4, gamma=0.1; total time=   0.0s\n",
            "[CV] END ................C=10, coef0=4, degree=4, gamma=0.01; total time=   0.0s\n",
            "[CV] END ................C=10, coef0=4, degree=4, gamma=0.01; total time=   0.0s\n",
            "[CV] END ................C=10, coef0=4, degree=4, gamma=0.01; total time=   0.0s\n",
            "[CV] END ...............C=10, coef0=4, degree=4, gamma=0.001; total time=   0.0s\n",
            "[CV] END ...............C=10, coef0=4, degree=4, gamma=0.001; total time=   0.0s\n",
            "[CV] END ...............C=10, coef0=4, degree=4, gamma=0.001; total time=   0.0s\n",
            "[CV] END ...................C=10, coef0=4, degree=5, gamma=1; total time=   0.0s\n",
            "[CV] END ...................C=10, coef0=4, degree=5, gamma=1; total time=   0.0s\n",
            "[CV] END ...................C=10, coef0=4, degree=5, gamma=1; total time=   0.0s\n",
            "[CV] END .................C=10, coef0=4, degree=5, gamma=0.1; total time=   0.0s\n",
            "[CV] END .................C=10, coef0=4, degree=5, gamma=0.1; total time=   0.0s\n",
            "[CV] END .................C=10, coef0=4, degree=5, gamma=0.1; total time=   0.0s\n",
            "[CV] END ................C=10, coef0=4, degree=5, gamma=0.01; total time=   0.0s\n",
            "[CV] END ................C=10, coef0=4, degree=5, gamma=0.01; total time=   0.0s\n",
            "[CV] END ................C=10, coef0=4, degree=5, gamma=0.01; total time=   0.0s\n",
            "[CV] END ...............C=10, coef0=4, degree=5, gamma=0.001; total time=   0.0s\n",
            "[CV] END ...............C=10, coef0=4, degree=5, gamma=0.001; total time=   0.0s\n",
            "[CV] END ...............C=10, coef0=4, degree=5, gamma=0.001; total time=   0.0s\n",
            "[CV] END ..................C=100, coef0=0, degree=2, gamma=1; total time=   0.0s\n",
            "[CV] END ..................C=100, coef0=0, degree=2, gamma=1; total time=   0.0s\n",
            "[CV] END ..................C=100, coef0=0, degree=2, gamma=1; total time=   0.0s\n",
            "[CV] END ................C=100, coef0=0, degree=2, gamma=0.1; total time=   0.0s\n",
            "[CV] END ................C=100, coef0=0, degree=2, gamma=0.1; total time=   0.0s\n",
            "[CV] END ................C=100, coef0=0, degree=2, gamma=0.1; total time=   0.0s\n",
            "[CV] END ...............C=100, coef0=0, degree=2, gamma=0.01; total time=   0.0s\n",
            "[CV] END ...............C=100, coef0=0, degree=2, gamma=0.01; total time=   0.0s\n",
            "[CV] END ...............C=100, coef0=0, degree=2, gamma=0.01; total time=   0.0s\n",
            "[CV] END ..............C=100, coef0=0, degree=2, gamma=0.001; total time=   0.0s\n",
            "[CV] END ..............C=100, coef0=0, degree=2, gamma=0.001; total time=   0.0s\n",
            "[CV] END ..............C=100, coef0=0, degree=2, gamma=0.001; total time=   0.0s\n",
            "[CV] END ..................C=100, coef0=0, degree=3, gamma=1; total time=   0.0s\n",
            "[CV] END ..................C=100, coef0=0, degree=3, gamma=1; total time=   0.0s\n",
            "[CV] END ..................C=100, coef0=0, degree=3, gamma=1; total time=   0.0s\n",
            "[CV] END ................C=100, coef0=0, degree=3, gamma=0.1; total time=   0.0s\n",
            "[CV] END ................C=100, coef0=0, degree=3, gamma=0.1; total time=   0.0s\n",
            "[CV] END ................C=100, coef0=0, degree=3, gamma=0.1; total time=   0.0s\n",
            "[CV] END ...............C=100, coef0=0, degree=3, gamma=0.01; total time=   0.0s\n",
            "[CV] END ...............C=100, coef0=0, degree=3, gamma=0.01; total time=   0.0s\n",
            "[CV] END ...............C=100, coef0=0, degree=3, gamma=0.01; total time=   0.0s\n",
            "[CV] END ..............C=100, coef0=0, degree=3, gamma=0.001; total time=   0.0s\n",
            "[CV] END ..............C=100, coef0=0, degree=3, gamma=0.001; total time=   0.0s\n",
            "[CV] END ..............C=100, coef0=0, degree=3, gamma=0.001; total time=   0.0s\n",
            "[CV] END ..................C=100, coef0=0, degree=4, gamma=1; total time=   0.0s\n",
            "[CV] END ..................C=100, coef0=0, degree=4, gamma=1; total time=   0.0s\n",
            "[CV] END ..................C=100, coef0=0, degree=4, gamma=1; total time=   0.0s\n",
            "[CV] END ................C=100, coef0=0, degree=4, gamma=0.1; total time=   0.0s\n",
            "[CV] END ................C=100, coef0=0, degree=4, gamma=0.1; total time=   0.0s\n",
            "[CV] END ................C=100, coef0=0, degree=4, gamma=0.1; total time=   0.0s\n",
            "[CV] END ...............C=100, coef0=0, degree=4, gamma=0.01; total time=   0.0s\n",
            "[CV] END ...............C=100, coef0=0, degree=4, gamma=0.01; total time=   0.0s\n",
            "[CV] END ...............C=100, coef0=0, degree=4, gamma=0.01; total time=   0.0s\n",
            "[CV] END ..............C=100, coef0=0, degree=4, gamma=0.001; total time=   0.0s\n",
            "[CV] END ..............C=100, coef0=0, degree=4, gamma=0.001; total time=   0.0s\n",
            "[CV] END ..............C=100, coef0=0, degree=4, gamma=0.001; total time=   0.0s\n",
            "[CV] END ..................C=100, coef0=0, degree=5, gamma=1; total time=   0.0s\n",
            "[CV] END ..................C=100, coef0=0, degree=5, gamma=1; total time=   0.0s\n",
            "[CV] END ..................C=100, coef0=0, degree=5, gamma=1; total time=   0.0s\n",
            "[CV] END ................C=100, coef0=0, degree=5, gamma=0.1; total time=   0.0s\n",
            "[CV] END ................C=100, coef0=0, degree=5, gamma=0.1; total time=   0.0s\n",
            "[CV] END ................C=100, coef0=0, degree=5, gamma=0.1; total time=   0.0s\n",
            "[CV] END ...............C=100, coef0=0, degree=5, gamma=0.01; total time=   0.0s\n",
            "[CV] END ...............C=100, coef0=0, degree=5, gamma=0.01; total time=   0.0s\n",
            "[CV] END ...............C=100, coef0=0, degree=5, gamma=0.01; total time=   0.0s\n",
            "[CV] END ..............C=100, coef0=0, degree=5, gamma=0.001; total time=   0.0s\n",
            "[CV] END ..............C=100, coef0=0, degree=5, gamma=0.001; total time=   0.0s\n",
            "[CV] END ..............C=100, coef0=0, degree=5, gamma=0.001; total time=   0.0s\n",
            "[CV] END ..................C=100, coef0=1, degree=2, gamma=1; total time=   0.0s\n",
            "[CV] END ..................C=100, coef0=1, degree=2, gamma=1; total time=   0.0s\n",
            "[CV] END ..................C=100, coef0=1, degree=2, gamma=1; total time=   0.0s\n",
            "[CV] END ................C=100, coef0=1, degree=2, gamma=0.1; total time=   0.0s\n",
            "[CV] END ................C=100, coef0=1, degree=2, gamma=0.1; total time=   0.0s\n",
            "[CV] END ................C=100, coef0=1, degree=2, gamma=0.1; total time=   0.0s\n",
            "[CV] END ...............C=100, coef0=1, degree=2, gamma=0.01; total time=   0.0s\n",
            "[CV] END ...............C=100, coef0=1, degree=2, gamma=0.01; total time=   0.0s\n",
            "[CV] END ...............C=100, coef0=1, degree=2, gamma=0.01; total time=   0.0s\n",
            "[CV] END ..............C=100, coef0=1, degree=2, gamma=0.001; total time=   0.0s\n",
            "[CV] END ..............C=100, coef0=1, degree=2, gamma=0.001; total time=   0.0s\n",
            "[CV] END ..............C=100, coef0=1, degree=2, gamma=0.001; total time=   0.0s\n",
            "[CV] END ..................C=100, coef0=1, degree=3, gamma=1; total time=   0.0s\n",
            "[CV] END ..................C=100, coef0=1, degree=3, gamma=1; total time=   0.0s\n",
            "[CV] END ..................C=100, coef0=1, degree=3, gamma=1; total time=   0.0s\n",
            "[CV] END ................C=100, coef0=1, degree=3, gamma=0.1; total time=   0.0s\n",
            "[CV] END ................C=100, coef0=1, degree=3, gamma=0.1; total time=   0.0s\n",
            "[CV] END ................C=100, coef0=1, degree=3, gamma=0.1; total time=   0.0s\n",
            "[CV] END ...............C=100, coef0=1, degree=3, gamma=0.01; total time=   0.0s\n",
            "[CV] END ...............C=100, coef0=1, degree=3, gamma=0.01; total time=   0.0s\n",
            "[CV] END ...............C=100, coef0=1, degree=3, gamma=0.01; total time=   0.0s\n",
            "[CV] END ..............C=100, coef0=1, degree=3, gamma=0.001; total time=   0.0s\n",
            "[CV] END ..............C=100, coef0=1, degree=3, gamma=0.001; total time=   0.0s\n",
            "[CV] END ..............C=100, coef0=1, degree=3, gamma=0.001; total time=   0.0s\n",
            "[CV] END ..................C=100, coef0=1, degree=4, gamma=1; total time=   0.0s\n",
            "[CV] END ..................C=100, coef0=1, degree=4, gamma=1; total time=   0.0s\n",
            "[CV] END ..................C=100, coef0=1, degree=4, gamma=1; total time=   0.0s\n",
            "[CV] END ................C=100, coef0=1, degree=4, gamma=0.1; total time=   0.0s\n",
            "[CV] END ................C=100, coef0=1, degree=4, gamma=0.1; total time=   0.0s\n",
            "[CV] END ................C=100, coef0=1, degree=4, gamma=0.1; total time=   0.0s\n",
            "[CV] END ...............C=100, coef0=1, degree=4, gamma=0.01; total time=   0.0s\n",
            "[CV] END ...............C=100, coef0=1, degree=4, gamma=0.01; total time=   0.0s\n",
            "[CV] END ...............C=100, coef0=1, degree=4, gamma=0.01; total time=   0.0s\n",
            "[CV] END ..............C=100, coef0=1, degree=4, gamma=0.001; total time=   0.0s\n",
            "[CV] END ..............C=100, coef0=1, degree=4, gamma=0.001; total time=   0.0s\n",
            "[CV] END ..............C=100, coef0=1, degree=4, gamma=0.001; total time=   0.0s\n",
            "[CV] END ..................C=100, coef0=1, degree=5, gamma=1; total time=   0.0s\n",
            "[CV] END ..................C=100, coef0=1, degree=5, gamma=1; total time=   0.0s\n",
            "[CV] END ..................C=100, coef0=1, degree=5, gamma=1; total time=   0.0s\n",
            "[CV] END ................C=100, coef0=1, degree=5, gamma=0.1; total time=   0.0s\n",
            "[CV] END ................C=100, coef0=1, degree=5, gamma=0.1; total time=   0.0s\n",
            "[CV] END ................C=100, coef0=1, degree=5, gamma=0.1; total time=   0.0s\n",
            "[CV] END ...............C=100, coef0=1, degree=5, gamma=0.01; total time=   0.0s\n",
            "[CV] END ...............C=100, coef0=1, degree=5, gamma=0.01; total time=   0.0s\n",
            "[CV] END ...............C=100, coef0=1, degree=5, gamma=0.01; total time=   0.0s\n",
            "[CV] END ..............C=100, coef0=1, degree=5, gamma=0.001; total time=   0.0s\n",
            "[CV] END ..............C=100, coef0=1, degree=5, gamma=0.001; total time=   0.0s\n",
            "[CV] END ..............C=100, coef0=1, degree=5, gamma=0.001; total time=   0.0s\n",
            "[CV] END ..................C=100, coef0=2, degree=2, gamma=1; total time=   0.0s\n",
            "[CV] END ..................C=100, coef0=2, degree=2, gamma=1; total time=   0.0s\n",
            "[CV] END ..................C=100, coef0=2, degree=2, gamma=1; total time=   0.0s\n",
            "[CV] END ................C=100, coef0=2, degree=2, gamma=0.1; total time=   0.0s\n",
            "[CV] END ................C=100, coef0=2, degree=2, gamma=0.1; total time=   0.0s\n",
            "[CV] END ................C=100, coef0=2, degree=2, gamma=0.1; total time=   0.0s\n",
            "[CV] END ...............C=100, coef0=2, degree=2, gamma=0.01; total time=   0.0s\n",
            "[CV] END ...............C=100, coef0=2, degree=2, gamma=0.01; total time=   0.0s\n",
            "[CV] END ...............C=100, coef0=2, degree=2, gamma=0.01; total time=   0.0s\n",
            "[CV] END ..............C=100, coef0=2, degree=2, gamma=0.001; total time=   0.0s\n",
            "[CV] END ..............C=100, coef0=2, degree=2, gamma=0.001; total time=   0.0s\n",
            "[CV] END ..............C=100, coef0=2, degree=2, gamma=0.001; total time=   0.0s\n",
            "[CV] END ..................C=100, coef0=2, degree=3, gamma=1; total time=   0.0s\n",
            "[CV] END ..................C=100, coef0=2, degree=3, gamma=1; total time=   0.0s\n",
            "[CV] END ..................C=100, coef0=2, degree=3, gamma=1; total time=   0.0s\n",
            "[CV] END ................C=100, coef0=2, degree=3, gamma=0.1; total time=   0.0s\n",
            "[CV] END ................C=100, coef0=2, degree=3, gamma=0.1; total time=   0.0s\n",
            "[CV] END ................C=100, coef0=2, degree=3, gamma=0.1; total time=   0.0s\n",
            "[CV] END ...............C=100, coef0=2, degree=3, gamma=0.01; total time=   0.0s\n",
            "[CV] END ...............C=100, coef0=2, degree=3, gamma=0.01; total time=   0.0s\n",
            "[CV] END ...............C=100, coef0=2, degree=3, gamma=0.01; total time=   0.0s\n",
            "[CV] END ..............C=100, coef0=2, degree=3, gamma=0.001; total time=   0.0s\n",
            "[CV] END ..............C=100, coef0=2, degree=3, gamma=0.001; total time=   0.0s\n",
            "[CV] END ..............C=100, coef0=2, degree=3, gamma=0.001; total time=   0.0s\n",
            "[CV] END ..................C=100, coef0=2, degree=4, gamma=1; total time=   0.0s\n",
            "[CV] END ..................C=100, coef0=2, degree=4, gamma=1; total time=   0.0s\n",
            "[CV] END ..................C=100, coef0=2, degree=4, gamma=1; total time=   0.0s\n",
            "[CV] END ................C=100, coef0=2, degree=4, gamma=0.1; total time=   0.0s\n",
            "[CV] END ................C=100, coef0=2, degree=4, gamma=0.1; total time=   0.0s\n",
            "[CV] END ................C=100, coef0=2, degree=4, gamma=0.1; total time=   0.0s\n",
            "[CV] END ...............C=100, coef0=2, degree=4, gamma=0.01; total time=   0.0s\n",
            "[CV] END ...............C=100, coef0=2, degree=4, gamma=0.01; total time=   0.0s\n",
            "[CV] END ...............C=100, coef0=2, degree=4, gamma=0.01; total time=   0.0s\n",
            "[CV] END ..............C=100, coef0=2, degree=4, gamma=0.001; total time=   0.0s\n",
            "[CV] END ..............C=100, coef0=2, degree=4, gamma=0.001; total time=   0.0s\n",
            "[CV] END ..............C=100, coef0=2, degree=4, gamma=0.001; total time=   0.0s\n",
            "[CV] END ..................C=100, coef0=2, degree=5, gamma=1; total time=   0.0s\n",
            "[CV] END ..................C=100, coef0=2, degree=5, gamma=1; total time=   0.0s\n",
            "[CV] END ..................C=100, coef0=2, degree=5, gamma=1; total time=   0.0s\n",
            "[CV] END ................C=100, coef0=2, degree=5, gamma=0.1; total time=   0.0s\n",
            "[CV] END ................C=100, coef0=2, degree=5, gamma=0.1; total time=   0.0s\n",
            "[CV] END ................C=100, coef0=2, degree=5, gamma=0.1; total time=   0.0s\n",
            "[CV] END ...............C=100, coef0=2, degree=5, gamma=0.01; total time=   0.0s\n",
            "[CV] END ...............C=100, coef0=2, degree=5, gamma=0.01; total time=   0.0s\n",
            "[CV] END ...............C=100, coef0=2, degree=5, gamma=0.01; total time=   0.0s\n",
            "[CV] END ..............C=100, coef0=2, degree=5, gamma=0.001; total time=   0.0s\n",
            "[CV] END ..............C=100, coef0=2, degree=5, gamma=0.001; total time=   0.0s\n",
            "[CV] END ..............C=100, coef0=2, degree=5, gamma=0.001; total time=   0.0s\n",
            "[CV] END ..................C=100, coef0=4, degree=2, gamma=1; total time=   0.0s\n",
            "[CV] END ..................C=100, coef0=4, degree=2, gamma=1; total time=   0.0s\n",
            "[CV] END ..................C=100, coef0=4, degree=2, gamma=1; total time=   0.0s\n",
            "[CV] END ................C=100, coef0=4, degree=2, gamma=0.1; total time=   0.0s\n",
            "[CV] END ................C=100, coef0=4, degree=2, gamma=0.1; total time=   0.0s\n",
            "[CV] END ................C=100, coef0=4, degree=2, gamma=0.1; total time=   0.0s\n",
            "[CV] END ...............C=100, coef0=4, degree=2, gamma=0.01; total time=   0.0s\n",
            "[CV] END ...............C=100, coef0=4, degree=2, gamma=0.01; total time=   0.0s\n",
            "[CV] END ...............C=100, coef0=4, degree=2, gamma=0.01; total time=   0.0s\n",
            "[CV] END ..............C=100, coef0=4, degree=2, gamma=0.001; total time=   0.0s\n",
            "[CV] END ..............C=100, coef0=4, degree=2, gamma=0.001; total time=   0.0s\n",
            "[CV] END ..............C=100, coef0=4, degree=2, gamma=0.001; total time=   0.0s\n",
            "[CV] END ..................C=100, coef0=4, degree=3, gamma=1; total time=   0.0s\n",
            "[CV] END ..................C=100, coef0=4, degree=3, gamma=1; total time=   0.0s\n",
            "[CV] END ..................C=100, coef0=4, degree=3, gamma=1; total time=   0.0s\n",
            "[CV] END ................C=100, coef0=4, degree=3, gamma=0.1; total time=   0.0s\n",
            "[CV] END ................C=100, coef0=4, degree=3, gamma=0.1; total time=   0.0s\n",
            "[CV] END ................C=100, coef0=4, degree=3, gamma=0.1; total time=   0.0s\n",
            "[CV] END ...............C=100, coef0=4, degree=3, gamma=0.01; total time=   0.0s\n",
            "[CV] END ...............C=100, coef0=4, degree=3, gamma=0.01; total time=   0.0s\n",
            "[CV] END ...............C=100, coef0=4, degree=3, gamma=0.01; total time=   0.0s\n",
            "[CV] END ..............C=100, coef0=4, degree=3, gamma=0.001; total time=   0.0s\n",
            "[CV] END ..............C=100, coef0=4, degree=3, gamma=0.001; total time=   0.0s\n",
            "[CV] END ..............C=100, coef0=4, degree=3, gamma=0.001; total time=   0.0s\n",
            "[CV] END ..................C=100, coef0=4, degree=4, gamma=1; total time=   0.0s\n",
            "[CV] END ..................C=100, coef0=4, degree=4, gamma=1; total time=   0.0s\n",
            "[CV] END ..................C=100, coef0=4, degree=4, gamma=1; total time=   0.0s\n",
            "[CV] END ................C=100, coef0=4, degree=4, gamma=0.1; total time=   0.0s\n",
            "[CV] END ................C=100, coef0=4, degree=4, gamma=0.1; total time=   0.0s\n",
            "[CV] END ................C=100, coef0=4, degree=4, gamma=0.1; total time=   0.0s\n",
            "[CV] END ...............C=100, coef0=4, degree=4, gamma=0.01; total time=   0.0s\n",
            "[CV] END ...............C=100, coef0=4, degree=4, gamma=0.01; total time=   0.0s\n",
            "[CV] END ...............C=100, coef0=4, degree=4, gamma=0.01; total time=   0.0s\n",
            "[CV] END ..............C=100, coef0=4, degree=4, gamma=0.001; total time=   0.0s\n",
            "[CV] END ..............C=100, coef0=4, degree=4, gamma=0.001; total time=   0.0s\n",
            "[CV] END ..............C=100, coef0=4, degree=4, gamma=0.001; total time=   0.0s\n",
            "[CV] END ..................C=100, coef0=4, degree=5, gamma=1; total time=   0.0s\n",
            "[CV] END ..................C=100, coef0=4, degree=5, gamma=1; total time=   0.0s\n",
            "[CV] END ..................C=100, coef0=4, degree=5, gamma=1; total time=   0.0s\n",
            "[CV] END ................C=100, coef0=4, degree=5, gamma=0.1; total time=   0.0s\n",
            "[CV] END ................C=100, coef0=4, degree=5, gamma=0.1; total time=   0.0s\n",
            "[CV] END ................C=100, coef0=4, degree=5, gamma=0.1; total time=   0.0s\n",
            "[CV] END ...............C=100, coef0=4, degree=5, gamma=0.01; total time=   0.0s\n",
            "[CV] END ...............C=100, coef0=4, degree=5, gamma=0.01; total time=   0.0s\n",
            "[CV] END ...............C=100, coef0=4, degree=5, gamma=0.01; total time=   0.0s\n",
            "[CV] END ..............C=100, coef0=4, degree=5, gamma=0.001; total time=   0.0s\n",
            "[CV] END ..............C=100, coef0=4, degree=5, gamma=0.001; total time=   0.0s\n",
            "[CV] END ..............C=100, coef0=4, degree=5, gamma=0.001; total time=   0.0s\n",
            "[CV] END .................C=1000, coef0=0, degree=2, gamma=1; total time=   0.0s\n",
            "[CV] END .................C=1000, coef0=0, degree=2, gamma=1; total time=   0.0s\n",
            "[CV] END .................C=1000, coef0=0, degree=2, gamma=1; total time=   0.0s\n",
            "[CV] END ...............C=1000, coef0=0, degree=2, gamma=0.1; total time=   0.0s\n",
            "[CV] END ...............C=1000, coef0=0, degree=2, gamma=0.1; total time=   0.0s\n",
            "[CV] END ...............C=1000, coef0=0, degree=2, gamma=0.1; total time=   0.0s\n",
            "[CV] END ..............C=1000, coef0=0, degree=2, gamma=0.01; total time=   0.0s\n",
            "[CV] END ..............C=1000, coef0=0, degree=2, gamma=0.01; total time=   0.0s\n",
            "[CV] END ..............C=1000, coef0=0, degree=2, gamma=0.01; total time=   0.0s\n",
            "[CV] END .............C=1000, coef0=0, degree=2, gamma=0.001; total time=   0.0s\n",
            "[CV] END .............C=1000, coef0=0, degree=2, gamma=0.001; total time=   0.0s\n",
            "[CV] END .............C=1000, coef0=0, degree=2, gamma=0.001; total time=   0.0s\n",
            "[CV] END .................C=1000, coef0=0, degree=3, gamma=1; total time=   0.0s\n",
            "[CV] END .................C=1000, coef0=0, degree=3, gamma=1; total time=   0.0s\n",
            "[CV] END .................C=1000, coef0=0, degree=3, gamma=1; total time=   0.0s\n",
            "[CV] END ...............C=1000, coef0=0, degree=3, gamma=0.1; total time=   0.0s\n",
            "[CV] END ...............C=1000, coef0=0, degree=3, gamma=0.1; total time=   0.0s\n",
            "[CV] END ...............C=1000, coef0=0, degree=3, gamma=0.1; total time=   0.0s\n",
            "[CV] END ..............C=1000, coef0=0, degree=3, gamma=0.01; total time=   0.0s\n",
            "[CV] END ..............C=1000, coef0=0, degree=3, gamma=0.01; total time=   0.0s\n",
            "[CV] END ..............C=1000, coef0=0, degree=3, gamma=0.01; total time=   0.0s\n",
            "[CV] END .............C=1000, coef0=0, degree=3, gamma=0.001; total time=   0.0s\n",
            "[CV] END .............C=1000, coef0=0, degree=3, gamma=0.001; total time=   0.0s\n",
            "[CV] END .............C=1000, coef0=0, degree=3, gamma=0.001; total time=   0.0s\n",
            "[CV] END .................C=1000, coef0=0, degree=4, gamma=1; total time=   0.0s\n",
            "[CV] END .................C=1000, coef0=0, degree=4, gamma=1; total time=   0.0s\n",
            "[CV] END .................C=1000, coef0=0, degree=4, gamma=1; total time=   0.0s\n",
            "[CV] END ...............C=1000, coef0=0, degree=4, gamma=0.1; total time=   0.0s\n",
            "[CV] END ...............C=1000, coef0=0, degree=4, gamma=0.1; total time=   0.0s\n",
            "[CV] END ...............C=1000, coef0=0, degree=4, gamma=0.1; total time=   0.0s\n",
            "[CV] END ..............C=1000, coef0=0, degree=4, gamma=0.01; total time=   0.0s\n",
            "[CV] END ..............C=1000, coef0=0, degree=4, gamma=0.01; total time=   0.0s\n",
            "[CV] END ..............C=1000, coef0=0, degree=4, gamma=0.01; total time=   0.0s\n",
            "[CV] END .............C=1000, coef0=0, degree=4, gamma=0.001; total time=   0.0s\n",
            "[CV] END .............C=1000, coef0=0, degree=4, gamma=0.001; total time=   0.0s\n",
            "[CV] END .............C=1000, coef0=0, degree=4, gamma=0.001; total time=   0.0s\n",
            "[CV] END .................C=1000, coef0=0, degree=5, gamma=1; total time=   0.0s\n",
            "[CV] END .................C=1000, coef0=0, degree=5, gamma=1; total time=   0.0s\n",
            "[CV] END .................C=1000, coef0=0, degree=5, gamma=1; total time=   0.0s\n",
            "[CV] END ...............C=1000, coef0=0, degree=5, gamma=0.1; total time=   0.0s\n",
            "[CV] END ...............C=1000, coef0=0, degree=5, gamma=0.1; total time=   0.0s\n",
            "[CV] END ...............C=1000, coef0=0, degree=5, gamma=0.1; total time=   0.0s\n",
            "[CV] END ..............C=1000, coef0=0, degree=5, gamma=0.01; total time=   0.0s\n",
            "[CV] END ..............C=1000, coef0=0, degree=5, gamma=0.01; total time=   0.0s\n",
            "[CV] END ..............C=1000, coef0=0, degree=5, gamma=0.01; total time=   0.0s\n",
            "[CV] END .............C=1000, coef0=0, degree=5, gamma=0.001; total time=   0.0s\n",
            "[CV] END .............C=1000, coef0=0, degree=5, gamma=0.001; total time=   0.0s\n",
            "[CV] END .............C=1000, coef0=0, degree=5, gamma=0.001; total time=   0.0s\n",
            "[CV] END .................C=1000, coef0=1, degree=2, gamma=1; total time=   0.0s\n",
            "[CV] END .................C=1000, coef0=1, degree=2, gamma=1; total time=   0.0s\n",
            "[CV] END .................C=1000, coef0=1, degree=2, gamma=1; total time=   0.0s\n",
            "[CV] END ...............C=1000, coef0=1, degree=2, gamma=0.1; total time=   0.0s\n",
            "[CV] END ...............C=1000, coef0=1, degree=2, gamma=0.1; total time=   0.0s\n",
            "[CV] END ...............C=1000, coef0=1, degree=2, gamma=0.1; total time=   0.0s\n",
            "[CV] END ..............C=1000, coef0=1, degree=2, gamma=0.01; total time=   0.0s\n",
            "[CV] END ..............C=1000, coef0=1, degree=2, gamma=0.01; total time=   0.0s\n",
            "[CV] END ..............C=1000, coef0=1, degree=2, gamma=0.01; total time=   0.0s\n",
            "[CV] END .............C=1000, coef0=1, degree=2, gamma=0.001; total time=   0.0s\n",
            "[CV] END .............C=1000, coef0=1, degree=2, gamma=0.001; total time=   0.0s\n",
            "[CV] END .............C=1000, coef0=1, degree=2, gamma=0.001; total time=   0.0s\n",
            "[CV] END .................C=1000, coef0=1, degree=3, gamma=1; total time=   0.0s\n",
            "[CV] END .................C=1000, coef0=1, degree=3, gamma=1; total time=   0.0s\n",
            "[CV] END .................C=1000, coef0=1, degree=3, gamma=1; total time=   0.0s\n",
            "[CV] END ...............C=1000, coef0=1, degree=3, gamma=0.1; total time=   0.0s\n",
            "[CV] END ...............C=1000, coef0=1, degree=3, gamma=0.1; total time=   0.0s\n",
            "[CV] END ...............C=1000, coef0=1, degree=3, gamma=0.1; total time=   0.0s\n",
            "[CV] END ..............C=1000, coef0=1, degree=3, gamma=0.01; total time=   0.0s\n",
            "[CV] END ..............C=1000, coef0=1, degree=3, gamma=0.01; total time=   0.0s\n",
            "[CV] END ..............C=1000, coef0=1, degree=3, gamma=0.01; total time=   0.0s\n",
            "[CV] END .............C=1000, coef0=1, degree=3, gamma=0.001; total time=   0.0s\n",
            "[CV] END .............C=1000, coef0=1, degree=3, gamma=0.001; total time=   0.0s\n",
            "[CV] END .............C=1000, coef0=1, degree=3, gamma=0.001; total time=   0.0s\n",
            "[CV] END .................C=1000, coef0=1, degree=4, gamma=1; total time=   0.0s\n",
            "[CV] END .................C=1000, coef0=1, degree=4, gamma=1; total time=   0.0s\n",
            "[CV] END .................C=1000, coef0=1, degree=4, gamma=1; total time=   0.0s\n",
            "[CV] END ...............C=1000, coef0=1, degree=4, gamma=0.1; total time=   0.0s\n",
            "[CV] END ...............C=1000, coef0=1, degree=4, gamma=0.1; total time=   0.0s\n",
            "[CV] END ...............C=1000, coef0=1, degree=4, gamma=0.1; total time=   0.0s\n",
            "[CV] END ..............C=1000, coef0=1, degree=4, gamma=0.01; total time=   0.0s\n",
            "[CV] END ..............C=1000, coef0=1, degree=4, gamma=0.01; total time=   0.0s\n",
            "[CV] END ..............C=1000, coef0=1, degree=4, gamma=0.01; total time=   0.0s\n",
            "[CV] END .............C=1000, coef0=1, degree=4, gamma=0.001; total time=   0.0s\n",
            "[CV] END .............C=1000, coef0=1, degree=4, gamma=0.001; total time=   0.0s\n",
            "[CV] END .............C=1000, coef0=1, degree=4, gamma=0.001; total time=   0.0s\n",
            "[CV] END .................C=1000, coef0=1, degree=5, gamma=1; total time=   0.0s\n",
            "[CV] END .................C=1000, coef0=1, degree=5, gamma=1; total time=   0.0s\n",
            "[CV] END .................C=1000, coef0=1, degree=5, gamma=1; total time=   0.0s\n",
            "[CV] END ...............C=1000, coef0=1, degree=5, gamma=0.1; total time=   0.0s\n",
            "[CV] END ...............C=1000, coef0=1, degree=5, gamma=0.1; total time=   0.0s\n",
            "[CV] END ...............C=1000, coef0=1, degree=5, gamma=0.1; total time=   0.0s\n",
            "[CV] END ..............C=1000, coef0=1, degree=5, gamma=0.01; total time=   0.0s\n",
            "[CV] END ..............C=1000, coef0=1, degree=5, gamma=0.01; total time=   0.0s\n",
            "[CV] END ..............C=1000, coef0=1, degree=5, gamma=0.01; total time=   0.0s\n",
            "[CV] END .............C=1000, coef0=1, degree=5, gamma=0.001; total time=   0.0s\n",
            "[CV] END .............C=1000, coef0=1, degree=5, gamma=0.001; total time=   0.0s\n",
            "[CV] END .............C=1000, coef0=1, degree=5, gamma=0.001; total time=   0.0s\n",
            "[CV] END .................C=1000, coef0=2, degree=2, gamma=1; total time=   0.0s\n",
            "[CV] END .................C=1000, coef0=2, degree=2, gamma=1; total time=   0.0s\n",
            "[CV] END .................C=1000, coef0=2, degree=2, gamma=1; total time=   0.0s\n",
            "[CV] END ...............C=1000, coef0=2, degree=2, gamma=0.1; total time=   0.0s\n",
            "[CV] END ...............C=1000, coef0=2, degree=2, gamma=0.1; total time=   0.0s\n",
            "[CV] END ...............C=1000, coef0=2, degree=2, gamma=0.1; total time=   0.0s\n",
            "[CV] END ..............C=1000, coef0=2, degree=2, gamma=0.01; total time=   0.0s\n",
            "[CV] END ..............C=1000, coef0=2, degree=2, gamma=0.01; total time=   0.0s\n",
            "[CV] END ..............C=1000, coef0=2, degree=2, gamma=0.01; total time=   0.0s\n",
            "[CV] END .............C=1000, coef0=2, degree=2, gamma=0.001; total time=   0.0s\n",
            "[CV] END .............C=1000, coef0=2, degree=2, gamma=0.001; total time=   0.0s\n",
            "[CV] END .............C=1000, coef0=2, degree=2, gamma=0.001; total time=   0.0s\n",
            "[CV] END .................C=1000, coef0=2, degree=3, gamma=1; total time=   0.0s\n",
            "[CV] END .................C=1000, coef0=2, degree=3, gamma=1; total time=   0.0s\n",
            "[CV] END .................C=1000, coef0=2, degree=3, gamma=1; total time=   0.0s\n",
            "[CV] END ...............C=1000, coef0=2, degree=3, gamma=0.1; total time=   0.0s\n",
            "[CV] END ...............C=1000, coef0=2, degree=3, gamma=0.1; total time=   0.0s\n",
            "[CV] END ...............C=1000, coef0=2, degree=3, gamma=0.1; total time=   0.0s\n",
            "[CV] END ..............C=1000, coef0=2, degree=3, gamma=0.01; total time=   0.0s\n",
            "[CV] END ..............C=1000, coef0=2, degree=3, gamma=0.01; total time=   0.0s\n",
            "[CV] END ..............C=1000, coef0=2, degree=3, gamma=0.01; total time=   0.0s\n",
            "[CV] END .............C=1000, coef0=2, degree=3, gamma=0.001; total time=   0.0s\n",
            "[CV] END .............C=1000, coef0=2, degree=3, gamma=0.001; total time=   0.0s\n",
            "[CV] END .............C=1000, coef0=2, degree=3, gamma=0.001; total time=   0.0s\n",
            "[CV] END .................C=1000, coef0=2, degree=4, gamma=1; total time=   0.0s\n",
            "[CV] END .................C=1000, coef0=2, degree=4, gamma=1; total time=   0.0s\n",
            "[CV] END .................C=1000, coef0=2, degree=4, gamma=1; total time=   0.0s\n",
            "[CV] END ...............C=1000, coef0=2, degree=4, gamma=0.1; total time=   0.0s\n",
            "[CV] END ...............C=1000, coef0=2, degree=4, gamma=0.1; total time=   0.0s\n",
            "[CV] END ...............C=1000, coef0=2, degree=4, gamma=0.1; total time=   0.0s\n",
            "[CV] END ..............C=1000, coef0=2, degree=4, gamma=0.01; total time=   0.0s\n",
            "[CV] END ..............C=1000, coef0=2, degree=4, gamma=0.01; total time=   0.0s\n",
            "[CV] END ..............C=1000, coef0=2, degree=4, gamma=0.01; total time=   0.0s\n",
            "[CV] END .............C=1000, coef0=2, degree=4, gamma=0.001; total time=   0.0s\n",
            "[CV] END .............C=1000, coef0=2, degree=4, gamma=0.001; total time=   0.0s\n",
            "[CV] END .............C=1000, coef0=2, degree=4, gamma=0.001; total time=   0.0s\n",
            "[CV] END .................C=1000, coef0=2, degree=5, gamma=1; total time=   0.0s\n",
            "[CV] END .................C=1000, coef0=2, degree=5, gamma=1; total time=   0.0s\n",
            "[CV] END .................C=1000, coef0=2, degree=5, gamma=1; total time=   0.0s\n",
            "[CV] END ...............C=1000, coef0=2, degree=5, gamma=0.1; total time=   0.0s\n",
            "[CV] END ...............C=1000, coef0=2, degree=5, gamma=0.1; total time=   0.0s\n",
            "[CV] END ...............C=1000, coef0=2, degree=5, gamma=0.1; total time=   0.0s\n",
            "[CV] END ..............C=1000, coef0=2, degree=5, gamma=0.01; total time=   0.0s\n",
            "[CV] END ..............C=1000, coef0=2, degree=5, gamma=0.01; total time=   0.0s\n",
            "[CV] END ..............C=1000, coef0=2, degree=5, gamma=0.01; total time=   0.0s\n",
            "[CV] END .............C=1000, coef0=2, degree=5, gamma=0.001; total time=   0.0s\n",
            "[CV] END .............C=1000, coef0=2, degree=5, gamma=0.001; total time=   0.0s\n",
            "[CV] END .............C=1000, coef0=2, degree=5, gamma=0.001; total time=   0.0s\n",
            "[CV] END .................C=1000, coef0=4, degree=2, gamma=1; total time=   0.0s\n",
            "[CV] END .................C=1000, coef0=4, degree=2, gamma=1; total time=   0.0s\n",
            "[CV] END .................C=1000, coef0=4, degree=2, gamma=1; total time=   0.0s\n",
            "[CV] END ...............C=1000, coef0=4, degree=2, gamma=0.1; total time=   0.0s\n",
            "[CV] END ...............C=1000, coef0=4, degree=2, gamma=0.1; total time=   0.0s\n",
            "[CV] END ...............C=1000, coef0=4, degree=2, gamma=0.1; total time=   0.0s\n",
            "[CV] END ..............C=1000, coef0=4, degree=2, gamma=0.01; total time=   0.0s\n",
            "[CV] END ..............C=1000, coef0=4, degree=2, gamma=0.01; total time=   0.0s\n",
            "[CV] END ..............C=1000, coef0=4, degree=2, gamma=0.01; total time=   0.0s\n",
            "[CV] END .............C=1000, coef0=4, degree=2, gamma=0.001; total time=   0.0s\n",
            "[CV] END .............C=1000, coef0=4, degree=2, gamma=0.001; total time=   0.0s\n",
            "[CV] END .............C=1000, coef0=4, degree=2, gamma=0.001; total time=   0.0s\n",
            "[CV] END .................C=1000, coef0=4, degree=3, gamma=1; total time=   0.0s\n",
            "[CV] END .................C=1000, coef0=4, degree=3, gamma=1; total time=   0.0s\n",
            "[CV] END .................C=1000, coef0=4, degree=3, gamma=1; total time=   0.0s\n",
            "[CV] END ...............C=1000, coef0=4, degree=3, gamma=0.1; total time=   0.0s\n",
            "[CV] END ...............C=1000, coef0=4, degree=3, gamma=0.1; total time=   0.0s\n",
            "[CV] END ...............C=1000, coef0=4, degree=3, gamma=0.1; total time=   0.0s\n",
            "[CV] END ..............C=1000, coef0=4, degree=3, gamma=0.01; total time=   0.0s\n",
            "[CV] END ..............C=1000, coef0=4, degree=3, gamma=0.01; total time=   0.0s\n",
            "[CV] END ..............C=1000, coef0=4, degree=3, gamma=0.01; total time=   0.0s\n",
            "[CV] END .............C=1000, coef0=4, degree=3, gamma=0.001; total time=   0.0s\n",
            "[CV] END .............C=1000, coef0=4, degree=3, gamma=0.001; total time=   0.0s\n",
            "[CV] END .............C=1000, coef0=4, degree=3, gamma=0.001; total time=   0.0s\n",
            "[CV] END .................C=1000, coef0=4, degree=4, gamma=1; total time=   0.0s\n",
            "[CV] END .................C=1000, coef0=4, degree=4, gamma=1; total time=   0.0s\n",
            "[CV] END .................C=1000, coef0=4, degree=4, gamma=1; total time=   0.0s\n",
            "[CV] END ...............C=1000, coef0=4, degree=4, gamma=0.1; total time=   0.0s\n",
            "[CV] END ...............C=1000, coef0=4, degree=4, gamma=0.1; total time=   0.0s\n",
            "[CV] END ...............C=1000, coef0=4, degree=4, gamma=0.1; total time=   0.0s\n",
            "[CV] END ..............C=1000, coef0=4, degree=4, gamma=0.01; total time=   0.0s\n",
            "[CV] END ..............C=1000, coef0=4, degree=4, gamma=0.01; total time=   0.0s\n",
            "[CV] END ..............C=1000, coef0=4, degree=4, gamma=0.01; total time=   0.0s\n",
            "[CV] END .............C=1000, coef0=4, degree=4, gamma=0.001; total time=   0.0s\n",
            "[CV] END .............C=1000, coef0=4, degree=4, gamma=0.001; total time=   0.0s\n",
            "[CV] END .............C=1000, coef0=4, degree=4, gamma=0.001; total time=   0.0s\n",
            "[CV] END .................C=1000, coef0=4, degree=5, gamma=1; total time=   0.0s\n",
            "[CV] END .................C=1000, coef0=4, degree=5, gamma=1; total time=   0.0s\n",
            "[CV] END .................C=1000, coef0=4, degree=5, gamma=1; total time=   0.0s\n",
            "[CV] END ...............C=1000, coef0=4, degree=5, gamma=0.1; total time=   0.0s\n",
            "[CV] END ...............C=1000, coef0=4, degree=5, gamma=0.1; total time=   0.0s\n",
            "[CV] END ...............C=1000, coef0=4, degree=5, gamma=0.1; total time=   0.0s\n",
            "[CV] END ..............C=1000, coef0=4, degree=5, gamma=0.01; total time=   0.0s\n",
            "[CV] END ..............C=1000, coef0=4, degree=5, gamma=0.01; total time=   0.0s\n",
            "[CV] END ..............C=1000, coef0=4, degree=5, gamma=0.01; total time=   0.0s\n",
            "[CV] END .............C=1000, coef0=4, degree=5, gamma=0.001; total time=   0.0s\n",
            "[CV] END .............C=1000, coef0=4, degree=5, gamma=0.001; total time=   0.0s\n",
            "[CV] END .............C=1000, coef0=4, degree=5, gamma=0.001; total time=   0.0s\n"
          ]
        },
        {
          "output_type": "execute_result",
          "data": {
            "text/plain": [
              "GridSearchCV(cv=3, estimator=SVC(),\n",
              "             param_grid={'C': [0.001, 10, 100, 1000], 'coef0': [0, 1, 2, 4],\n",
              "                         'degree': [2, 3, 4, 5],\n",
              "                         'gamma': [1, 0.1, 0.01, 0.001]},\n",
              "             verbose=2)"
            ]
          },
          "metadata": {},
          "execution_count": 75
        }
      ]
    },
    {
      "cell_type": "code",
      "metadata": {
        "colab": {
          "base_uri": "https://localhost:8080/"
        },
        "id": "Y_opoHKEratG",
        "outputId": "2f77a509-97e9-46ce-ed8a-0a940906cfff"
      },
      "source": [
        "grid_search.best_params_"
      ],
      "execution_count": 79,
      "outputs": [
        {
          "output_type": "execute_result",
          "data": {
            "text/plain": [
              "{'C': 10, 'coef0': 0, 'degree': 2, 'gamma': 1}"
            ]
          },
          "metadata": {},
          "execution_count": 79
        }
      ]
    },
    {
      "cell_type": "code",
      "metadata": {
        "id": "heKx6sQs7PxK"
      },
      "source": [
        "poly_best=grid_search.best_estimator_.fit(X_train_scaled,y_train)"
      ],
      "execution_count": 81,
      "outputs": []
    },
    {
      "cell_type": "code",
      "metadata": {
        "id": "Yzwq42-X7P0g"
      },
      "source": [
        "grid_pred=poly_best.predict(X_train_scaled)"
      ],
      "execution_count": 82,
      "outputs": []
    },
    {
      "cell_type": "code",
      "metadata": {
        "colab": {
          "base_uri": "https://localhost:8080/"
        },
        "id": "E2SSbuBI71iA",
        "outputId": "c910ff15-23a2-4459-e4e0-ad19d1b2bd3f"
      },
      "source": [
        "accuracy_score(y_train,grid_pred)"
      ],
      "execution_count": 83,
      "outputs": [
        {
          "output_type": "execute_result",
          "data": {
            "text/plain": [
              "0.9833333333333333"
            ]
          },
          "metadata": {},
          "execution_count": 83
        }
      ]
    },
    {
      "cell_type": "code",
      "metadata": {
        "colab": {
          "base_uri": "https://localhost:8080/"
        },
        "id": "2DnTpPIa71lN",
        "outputId": "1a17e624-6f9a-487c-f206-66cae1417cff"
      },
      "source": [
        "confusion_matrix(y_train,grid_pred)"
      ],
      "execution_count": 84,
      "outputs": [
        {
          "output_type": "execute_result",
          "data": {
            "text/plain": [
              "array([[42,  0,  0],\n",
              "       [ 0, 37,  2],\n",
              "       [ 0,  0, 39]])"
            ]
          },
          "metadata": {},
          "execution_count": 84
        }
      ]
    },
    {
      "cell_type": "code",
      "metadata": {
        "colab": {
          "base_uri": "https://localhost:8080/",
          "height": 69
        },
        "id": "x3LvuX3b71oU",
        "outputId": "7fe44288-a72e-4bd2-a5e0-a951726c705a"
      },
      "source": [
        "classification_report(y_train,grid_pred)"
      ],
      "execution_count": 85,
      "outputs": [
        {
          "output_type": "execute_result",
          "data": {
            "application/vnd.google.colaboratory.intrinsic+json": {
              "type": "string"
            },
            "text/plain": [
              "'              precision    recall  f1-score   support\\n\\n           0       1.00      1.00      1.00        42\\n           1       1.00      0.95      0.97        39\\n           2       0.95      1.00      0.97        39\\n\\n    accuracy                           0.98       120\\n   macro avg       0.98      0.98      0.98       120\\nweighted avg       0.98      0.98      0.98       120\\n'"
            ]
          },
          "metadata": {},
          "execution_count": 85
        }
      ]
    },
    {
      "cell_type": "code",
      "metadata": {
        "id": "n2rRkqFg7P3A"
      },
      "source": [
        "test_scaled=scale_pipe.transform(X_test)"
      ],
      "execution_count": 86,
      "outputs": []
    },
    {
      "cell_type": "code",
      "metadata": {
        "id": "0dnNIttFrav8"
      },
      "source": [
        "test_pred=poly_best.predict(test_scaled)"
      ],
      "execution_count": 87,
      "outputs": []
    },
    {
      "cell_type": "code",
      "metadata": {
        "colab": {
          "base_uri": "https://localhost:8080/"
        },
        "id": "42lCCT_lrayb",
        "outputId": "4dc95287-77cf-4983-e741-dbfbf5a0b59a"
      },
      "source": [
        "accuracy_score(y_test, test_pred)"
      ],
      "execution_count": 89,
      "outputs": [
        {
          "output_type": "execute_result",
          "data": {
            "text/plain": [
              "0.9666666666666667"
            ]
          },
          "metadata": {},
          "execution_count": 89
        }
      ]
    },
    {
      "cell_type": "code",
      "metadata": {
        "colab": {
          "base_uri": "https://localhost:8080/"
        },
        "id": "csUsZ1tlra11",
        "outputId": "81876d10-480d-4929-b827-1c597c67c8bf"
      },
      "source": [
        "print(classification_report(y_test, test_pred))"
      ],
      "execution_count": 91,
      "outputs": [
        {
          "output_type": "stream",
          "name": "stdout",
          "text": [
            "              precision    recall  f1-score   support\n",
            "\n",
            "           0       1.00      1.00      1.00         8\n",
            "           1       0.92      1.00      0.96        11\n",
            "           2       1.00      0.91      0.95        11\n",
            "\n",
            "    accuracy                           0.97        30\n",
            "   macro avg       0.97      0.97      0.97        30\n",
            "weighted avg       0.97      0.97      0.97        30\n",
            "\n"
          ]
        }
      ]
    },
    {
      "cell_type": "code",
      "metadata": {
        "id": "fOli58d1lmRl"
      },
      "source": [
        ""
      ],
      "execution_count": null,
      "outputs": []
    },
    {
      "cell_type": "code",
      "metadata": {
        "id": "A9G6xpaElmVC"
      },
      "source": [
        ""
      ],
      "execution_count": null,
      "outputs": []
    }
  ]
}