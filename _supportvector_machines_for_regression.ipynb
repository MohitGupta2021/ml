{
  "nbformat": 4,
  "nbformat_minor": 0,
  "metadata": {
    "colab": {
      "name": "_supportvector_machines_for_regression",
      "provenance": [],
      "authorship_tag": "ABX9TyOuh91n0DMeQ+s2yVVyymBn",
      "include_colab_link": true
    },
    "kernelspec": {
      "name": "python3",
      "display_name": "Python 3"
    },
    "language_info": {
      "name": "python"
    }
  },
  "cells": [
    {
      "cell_type": "markdown",
      "metadata": {
        "id": "view-in-github",
        "colab_type": "text"
      },
      "source": [
        "<a href=\"https://colab.research.google.com/github/MohitGupta2021/ml/blob/main/_supportvector_machines_for_regression.ipynb\" target=\"_parent\"><img src=\"https://colab.research.google.com/assets/colab-badge.svg\" alt=\"Open In Colab\"/></a>"
      ]
    },
    {
      "cell_type": "code",
      "metadata": {
        "id": "yeh7nKUiL6r7"
      },
      "source": [
        "import numpy as np\n",
        "import pandas as pd\n",
        "import seaborn as sns\n",
        "import urllib.request\n",
        "import sklearn\n",
        "import matplotlib.pyplot as plt\n",
        "%matplotlib inline"
      ],
      "execution_count": 27,
      "outputs": []
    },
    {
      "cell_type": "code",
      "metadata": {
        "id": "C4wr8A2YMyol"
      },
      "source": [
        "data_path = 'https://raw.githubusercontent.com/nyandwi/public_datasets/master/housing.csv'\n",
        "\n",
        "# This require internet \n",
        "\n",
        "def download_read_data(path):\n",
        "\n",
        "    data_path =  urllib.request.urlretrieve(path)[0]\n",
        "    data = pd.read_csv(path)\n",
        "    \n",
        "    return data"
      ],
      "execution_count": 28,
      "outputs": []
    },
    {
      "cell_type": "code",
      "metadata": {
        "id": "6Bt-KifWMyrD"
      },
      "source": [
        "cal_data=download_read_data( data_path)"
      ],
      "execution_count": 29,
      "outputs": []
    },
    {
      "cell_type": "code",
      "metadata": {
        "colab": {
          "base_uri": "https://localhost:8080/",
          "height": 223
        },
        "id": "zLBMttfwMytj",
        "outputId": "ae096087-4be4-4b22-a3b2-6b8541cf97f9"
      },
      "source": [
        "cal_data.head()"
      ],
      "execution_count": 30,
      "outputs": [
        {
          "output_type": "execute_result",
          "data": {
            "text/html": [
              "<div>\n",
              "<style scoped>\n",
              "    .dataframe tbody tr th:only-of-type {\n",
              "        vertical-align: middle;\n",
              "    }\n",
              "\n",
              "    .dataframe tbody tr th {\n",
              "        vertical-align: top;\n",
              "    }\n",
              "\n",
              "    .dataframe thead th {\n",
              "        text-align: right;\n",
              "    }\n",
              "</style>\n",
              "<table border=\"1\" class=\"dataframe\">\n",
              "  <thead>\n",
              "    <tr style=\"text-align: right;\">\n",
              "      <th></th>\n",
              "      <th>longitude</th>\n",
              "      <th>latitude</th>\n",
              "      <th>housing_median_age</th>\n",
              "      <th>total_rooms</th>\n",
              "      <th>total_bedrooms</th>\n",
              "      <th>population</th>\n",
              "      <th>households</th>\n",
              "      <th>median_income</th>\n",
              "      <th>median_house_value</th>\n",
              "      <th>ocean_proximity</th>\n",
              "    </tr>\n",
              "  </thead>\n",
              "  <tbody>\n",
              "    <tr>\n",
              "      <th>0</th>\n",
              "      <td>-122.23</td>\n",
              "      <td>37.88</td>\n",
              "      <td>41.0</td>\n",
              "      <td>880.0</td>\n",
              "      <td>129.0</td>\n",
              "      <td>322.0</td>\n",
              "      <td>126.0</td>\n",
              "      <td>8.3252</td>\n",
              "      <td>452600.0</td>\n",
              "      <td>NEAR BAY</td>\n",
              "    </tr>\n",
              "    <tr>\n",
              "      <th>1</th>\n",
              "      <td>-122.22</td>\n",
              "      <td>37.86</td>\n",
              "      <td>21.0</td>\n",
              "      <td>7099.0</td>\n",
              "      <td>1106.0</td>\n",
              "      <td>2401.0</td>\n",
              "      <td>1138.0</td>\n",
              "      <td>8.3014</td>\n",
              "      <td>358500.0</td>\n",
              "      <td>NEAR BAY</td>\n",
              "    </tr>\n",
              "    <tr>\n",
              "      <th>2</th>\n",
              "      <td>-122.24</td>\n",
              "      <td>37.85</td>\n",
              "      <td>52.0</td>\n",
              "      <td>1467.0</td>\n",
              "      <td>190.0</td>\n",
              "      <td>496.0</td>\n",
              "      <td>177.0</td>\n",
              "      <td>7.2574</td>\n",
              "      <td>352100.0</td>\n",
              "      <td>NEAR BAY</td>\n",
              "    </tr>\n",
              "    <tr>\n",
              "      <th>3</th>\n",
              "      <td>-122.25</td>\n",
              "      <td>37.85</td>\n",
              "      <td>52.0</td>\n",
              "      <td>1274.0</td>\n",
              "      <td>235.0</td>\n",
              "      <td>558.0</td>\n",
              "      <td>219.0</td>\n",
              "      <td>5.6431</td>\n",
              "      <td>341300.0</td>\n",
              "      <td>NEAR BAY</td>\n",
              "    </tr>\n",
              "    <tr>\n",
              "      <th>4</th>\n",
              "      <td>-122.25</td>\n",
              "      <td>37.85</td>\n",
              "      <td>52.0</td>\n",
              "      <td>1627.0</td>\n",
              "      <td>280.0</td>\n",
              "      <td>565.0</td>\n",
              "      <td>259.0</td>\n",
              "      <td>3.8462</td>\n",
              "      <td>342200.0</td>\n",
              "      <td>NEAR BAY</td>\n",
              "    </tr>\n",
              "  </tbody>\n",
              "</table>\n",
              "</div>"
            ],
            "text/plain": [
              "   longitude  latitude  ...  median_house_value  ocean_proximity\n",
              "0    -122.23     37.88  ...            452600.0         NEAR BAY\n",
              "1    -122.22     37.86  ...            358500.0         NEAR BAY\n",
              "2    -122.24     37.85  ...            352100.0         NEAR BAY\n",
              "3    -122.25     37.85  ...            341300.0         NEAR BAY\n",
              "4    -122.25     37.85  ...            342200.0         NEAR BAY\n",
              "\n",
              "[5 rows x 10 columns]"
            ]
          },
          "metadata": {},
          "execution_count": 30
        }
      ]
    },
    {
      "cell_type": "code",
      "metadata": {
        "colab": {
          "base_uri": "https://localhost:8080/"
        },
        "id": "Ht3G0RQCMyw_",
        "outputId": "e3fa3d0a-f8e7-43f4-e5a8-4f252d2e6c20"
      },
      "source": [
        "len(cal_data)"
      ],
      "execution_count": 31,
      "outputs": [
        {
          "output_type": "execute_result",
          "data": {
            "text/plain": [
              "20640"
            ]
          },
          "metadata": {},
          "execution_count": 31
        }
      ]
    },
    {
      "cell_type": "code",
      "metadata": {
        "id": "xT-KmNQgNGtq"
      },
      "source": [
        "from sklearn.model_selection import train_test_split\n",
        "train_data,test_data=train_test_split(cal_data,test_size=0.2,random_state=20)\n"
      ],
      "execution_count": 32,
      "outputs": []
    },
    {
      "cell_type": "code",
      "metadata": {
        "colab": {
          "base_uri": "https://localhost:8080/",
          "height": 346
        },
        "id": "K2FtwiCANGxK",
        "outputId": "6883cf80-97cf-46ab-8b32-e4b2063921fe"
      },
      "source": [
        "train_data.describe().T"
      ],
      "execution_count": 33,
      "outputs": [
        {
          "output_type": "execute_result",
          "data": {
            "text/html": [
              "<div>\n",
              "<style scoped>\n",
              "    .dataframe tbody tr th:only-of-type {\n",
              "        vertical-align: middle;\n",
              "    }\n",
              "\n",
              "    .dataframe tbody tr th {\n",
              "        vertical-align: top;\n",
              "    }\n",
              "\n",
              "    .dataframe thead th {\n",
              "        text-align: right;\n",
              "    }\n",
              "</style>\n",
              "<table border=\"1\" class=\"dataframe\">\n",
              "  <thead>\n",
              "    <tr style=\"text-align: right;\">\n",
              "      <th></th>\n",
              "      <th>count</th>\n",
              "      <th>mean</th>\n",
              "      <th>std</th>\n",
              "      <th>min</th>\n",
              "      <th>25%</th>\n",
              "      <th>50%</th>\n",
              "      <th>75%</th>\n",
              "      <th>max</th>\n",
              "    </tr>\n",
              "  </thead>\n",
              "  <tbody>\n",
              "    <tr>\n",
              "      <th>longitude</th>\n",
              "      <td>16512.0</td>\n",
              "      <td>-119.567038</td>\n",
              "      <td>1.999237</td>\n",
              "      <td>-124.3500</td>\n",
              "      <td>-121.7900</td>\n",
              "      <td>-118.49000</td>\n",
              "      <td>-118.01</td>\n",
              "      <td>-114.4900</td>\n",
              "    </tr>\n",
              "    <tr>\n",
              "      <th>latitude</th>\n",
              "      <td>16512.0</td>\n",
              "      <td>35.627891</td>\n",
              "      <td>2.133117</td>\n",
              "      <td>32.5500</td>\n",
              "      <td>33.9400</td>\n",
              "      <td>34.26000</td>\n",
              "      <td>37.71</td>\n",
              "      <td>41.9500</td>\n",
              "    </tr>\n",
              "    <tr>\n",
              "      <th>housing_median_age</th>\n",
              "      <td>16512.0</td>\n",
              "      <td>28.629482</td>\n",
              "      <td>12.610702</td>\n",
              "      <td>1.0000</td>\n",
              "      <td>18.0000</td>\n",
              "      <td>29.00000</td>\n",
              "      <td>37.00</td>\n",
              "      <td>52.0000</td>\n",
              "    </tr>\n",
              "    <tr>\n",
              "      <th>total_rooms</th>\n",
              "      <td>16512.0</td>\n",
              "      <td>2625.408794</td>\n",
              "      <td>2153.454223</td>\n",
              "      <td>6.0000</td>\n",
              "      <td>1450.0000</td>\n",
              "      <td>2127.00000</td>\n",
              "      <td>3148.00</td>\n",
              "      <td>39320.0000</td>\n",
              "    </tr>\n",
              "    <tr>\n",
              "      <th>total_bedrooms</th>\n",
              "      <td>16344.0</td>\n",
              "      <td>537.006914</td>\n",
              "      <td>417.933626</td>\n",
              "      <td>2.0000</td>\n",
              "      <td>296.0000</td>\n",
              "      <td>436.00000</td>\n",
              "      <td>646.00</td>\n",
              "      <td>6445.0000</td>\n",
              "    </tr>\n",
              "    <tr>\n",
              "      <th>population</th>\n",
              "      <td>16512.0</td>\n",
              "      <td>1421.184532</td>\n",
              "      <td>1104.984981</td>\n",
              "      <td>3.0000</td>\n",
              "      <td>785.0000</td>\n",
              "      <td>1166.00000</td>\n",
              "      <td>1722.00</td>\n",
              "      <td>28566.0000</td>\n",
              "    </tr>\n",
              "    <tr>\n",
              "      <th>households</th>\n",
              "      <td>16512.0</td>\n",
              "      <td>499.194949</td>\n",
              "      <td>380.218028</td>\n",
              "      <td>2.0000</td>\n",
              "      <td>279.0000</td>\n",
              "      <td>410.00000</td>\n",
              "      <td>605.00</td>\n",
              "      <td>6082.0000</td>\n",
              "    </tr>\n",
              "    <tr>\n",
              "      <th>median_income</th>\n",
              "      <td>16512.0</td>\n",
              "      <td>3.871777</td>\n",
              "      <td>1.899704</td>\n",
              "      <td>0.4999</td>\n",
              "      <td>2.5643</td>\n",
              "      <td>3.53255</td>\n",
              "      <td>4.75</td>\n",
              "      <td>15.0001</td>\n",
              "    </tr>\n",
              "    <tr>\n",
              "      <th>median_house_value</th>\n",
              "      <td>16512.0</td>\n",
              "      <td>206782.355378</td>\n",
              "      <td>114707.458670</td>\n",
              "      <td>14999.0000</td>\n",
              "      <td>120075.0000</td>\n",
              "      <td>180100.00000</td>\n",
              "      <td>264700.00</td>\n",
              "      <td>500001.0000</td>\n",
              "    </tr>\n",
              "  </tbody>\n",
              "</table>\n",
              "</div>"
            ],
            "text/plain": [
              "                      count           mean  ...        75%          max\n",
              "longitude           16512.0    -119.567038  ...    -118.01    -114.4900\n",
              "latitude            16512.0      35.627891  ...      37.71      41.9500\n",
              "housing_median_age  16512.0      28.629482  ...      37.00      52.0000\n",
              "total_rooms         16512.0    2625.408794  ...    3148.00   39320.0000\n",
              "total_bedrooms      16344.0     537.006914  ...     646.00    6445.0000\n",
              "population          16512.0    1421.184532  ...    1722.00   28566.0000\n",
              "households          16512.0     499.194949  ...     605.00    6082.0000\n",
              "median_income       16512.0       3.871777  ...       4.75      15.0001\n",
              "median_house_value  16512.0  206782.355378  ...  264700.00  500001.0000\n",
              "\n",
              "[9 rows x 8 columns]"
            ]
          },
          "metadata": {},
          "execution_count": 33
        }
      ]
    },
    {
      "cell_type": "code",
      "metadata": {
        "colab": {
          "base_uri": "https://localhost:8080/"
        },
        "id": "jRlTNqbPNUhD",
        "outputId": "4eb6268e-d2dc-43ca-fe5a-fe383629f7c0"
      },
      "source": [
        "train_data.isnull().sum()"
      ],
      "execution_count": 34,
      "outputs": [
        {
          "output_type": "execute_result",
          "data": {
            "text/plain": [
              "longitude               0\n",
              "latitude                0\n",
              "housing_median_age      0\n",
              "total_rooms             0\n",
              "total_bedrooms        168\n",
              "population              0\n",
              "households              0\n",
              "median_income           0\n",
              "median_house_value      0\n",
              "ocean_proximity         0\n",
              "dtype: int64"
            ]
          },
          "metadata": {},
          "execution_count": 34
        }
      ]
    },
    {
      "cell_type": "code",
      "metadata": {
        "colab": {
          "base_uri": "https://localhost:8080/"
        },
        "id": "EhshdZM-NUkh",
        "outputId": "1ac7271e-b5bf-41b0-d712-f54a02931137"
      },
      "source": [
        "train_data['total_bedrooms'].value_counts()"
      ],
      "execution_count": 35,
      "outputs": [
        {
          "output_type": "execute_result",
          "data": {
            "text/plain": [
              "284.0     42\n",
              "280.0     42\n",
              "309.0     41\n",
              "317.0     41\n",
              "272.0     39\n",
              "          ..\n",
              "1619.0     1\n",
              "1086.0     1\n",
              "1228.0     1\n",
              "1272.0     1\n",
              "1782.0     1\n",
              "Name: total_bedrooms, Length: 1798, dtype: int64"
            ]
          },
          "metadata": {},
          "execution_count": 35
        }
      ]
    },
    {
      "cell_type": "code",
      "metadata": {
        "colab": {
          "base_uri": "https://localhost:8080/",
          "height": 297
        },
        "id": "tPFdaY8XNjxy",
        "outputId": "4c0cc2bb-1ae6-437c-f2bf-44489fa5c8a4"
      },
      "source": [
        "sns.countplot(data=train_data,x='ocean_proximity')"
      ],
      "execution_count": 36,
      "outputs": [
        {
          "output_type": "execute_result",
          "data": {
            "text/plain": [
              "<matplotlib.axes._subplots.AxesSubplot at 0x7f5c264dc410>"
            ]
          },
          "metadata": {},
          "execution_count": 36
        },
        {
          "output_type": "display_data",
          "data": {
            "image/png": "[encoded data removed]",
            "text/plain": [
              "<Figure size 432x288 with 1 Axes>"
            ]
          },
          "metadata": {
            "needs_background": "light"
          }
        }
      ]
    },
    {
      "cell_type": "code",
      "metadata": {
        "colab": {
          "base_uri": "https://localhost:8080/",
          "height": 602
        },
        "id": "BeZxXMGpNj0n",
        "outputId": "c6e9d4f6-cf3f-4e17-989e-77ce5df4b023"
      },
      "source": [
        "train_data.hist(bins=50,figsize=(15,10))"
      ],
      "execution_count": 37,
      "outputs": [
        {
          "output_type": "execute_result",
          "data": {
            "text/plain": [
              "array([[<matplotlib.axes._subplots.AxesSubplot object at 0x7f5c1dc55550>,\n",
              "        <matplotlib.axes._subplots.AxesSubplot object at 0x7f5c1dc11f50>,\n",
              "        <matplotlib.axes._subplots.AxesSubplot object at 0x7f5c1dbd4590>],\n",
              "       [<matplotlib.axes._subplots.AxesSubplot object at 0x7f5c1db8ab90>,\n",
              "        <matplotlib.axes._subplots.AxesSubplot object at 0x7f5c1db4c190>,\n",
              "        <matplotlib.axes._subplots.AxesSubplot object at 0x7f5c1db03790>],\n",
              "       [<matplotlib.axes._subplots.AxesSubplot object at 0x7f5c1db37e10>,\n",
              "        <matplotlib.axes._subplots.AxesSubplot object at 0x7f5c1da7c390>,\n",
              "        <matplotlib.axes._subplots.AxesSubplot object at 0x7f5c1da7c3d0>]],\n",
              "      dtype=object)"
            ]
          },
          "metadata": {},
          "execution_count": 37
        },
        {
          "output_type": "display_data",
          "data": {
            "image/png": "[encoded data removed]",
            "text/plain": [
              "<Figure size 1080x720 with 9 Axes>"
            ]
          },
          "metadata": {
            "needs_background": "light"
          }
        }
      ]
    },
    {
      "cell_type": "code",
      "metadata": {
        "id": "-ZThkaX-Nj3d"
      },
      "source": [
        "X_train=train_data.drop('median_house_value',axis=1)\n",
        "Y_train=train_data['median_house_value']"
      ],
      "execution_count": 38,
      "outputs": []
    },
    {
      "cell_type": "code",
      "metadata": {
        "id": "AU7S2Xj0OsKz"
      },
      "source": [
        "#numerical features\n",
        "num_feats=X_train.drop('ocean_proximity',axis=1)\n",
        "#categorial features\n",
        "cat_feats=X_train[['ocean_proximity']]"
      ],
      "execution_count": 39,
      "outputs": []
    },
    {
      "cell_type": "code",
      "metadata": {
        "id": "UzTguzFBPPRZ"
      },
      "source": [
        "from sklearn.pipeline import Pipeline\n",
        "from sklearn.impute import SimpleImputer\n",
        "from sklearn.preprocessing import StandardScaler\n",
        "num_pipe=Pipeline([('imputer',SimpleImputer(strategy='mean')),('scaler',StandardScaler())])\n",
        "num_prepared=num_pipe.fit_transform(num_feats)"
      ],
      "execution_count": 40,
      "outputs": []
    },
    {
      "cell_type": "code",
      "metadata": {
        "id": "H-myxV-GPPUH"
      },
      "source": [
        "from sklearn.compose import ColumnTransformer\n",
        "from sklearn.preprocessing import OneHotEncoder\n",
        "num_list=list(num_feats)\n",
        "cat_list=list(cat_feats)"
      ],
      "execution_count": 41,
      "outputs": []
    },
    {
      "cell_type": "code",
      "metadata": {
        "id": "STVjWaJSPPXm"
      },
      "source": [
        "final_pipe=ColumnTransformer([('num',num_pipe,num_list),('cat',OneHotEncoder(),cat_list)])\n",
        "X_train_processed=final_pipe.fit_transform(X_train)"
      ],
      "execution_count": 42,
      "outputs": []
    },
    {
      "cell_type": "code",
      "metadata": {
        "id": "5d75gdZDOsQb"
      },
      "source": [
        "from sklearn.svm import LinearSVR,SVR"
      ],
      "execution_count": 43,
      "outputs": []
    },
    {
      "cell_type": "code",
      "metadata": {
        "colab": {
          "base_uri": "https://localhost:8080/"
        },
        "id": "rt3mqbHiOsTG",
        "outputId": "7a4825fc-5cc6-4252-aa89-f47aaa713933"
      },
      "source": [
        "lin_svr=LinearSVR()\n",
        "lin_svr.fit(X_train_processed,Y_train)"
      ],
      "execution_count": 44,
      "outputs": [
        {
          "output_type": "execute_result",
          "data": {
            "text/plain": [
              "LinearSVR()"
            ]
          },
          "metadata": {},
          "execution_count": 44
        }
      ]
    },
    {
      "cell_type": "code",
      "metadata": {
        "colab": {
          "base_uri": "https://localhost:8080/"
        },
        "id": "OHNu9tmeOsVf",
        "outputId": "5588c3fb-d075-4397-ee2c-7069996b8c64"
      },
      "source": [
        "poly_svr=SVR(kernel='poly')\n",
        "poly_svr.fit(X_train_processed,Y_train)"
      ],
      "execution_count": 45,
      "outputs": [
        {
          "output_type": "execute_result",
          "data": {
            "text/plain": [
              "SVR(kernel='poly')"
            ]
          },
          "metadata": {},
          "execution_count": 45
        }
      ]
    },
    {
      "cell_type": "code",
      "metadata": {
        "colab": {
          "base_uri": "https://localhost:8080/"
        },
        "id": "2jD_rRQujznz",
        "outputId": "5c97e3d1-8cc3-44a8-9307-f731f6f05c2a"
      },
      "source": [
        "from sklearn.metrics import mean_squared_error\n",
        "prediction=lin_svr.predict(X_train_processed)\n",
        "mse=mean_squared_error(Y_train,prediction)\n",
        "rmse=np.sqrt(mse)\n",
        "rmse\n"
      ],
      "execution_count": 46,
      "outputs": [
        {
          "output_type": "execute_result",
          "data": {
            "text/plain": [
              "217619.2419963922"
            ]
          },
          "metadata": {},
          "execution_count": 46
        }
      ]
    },
    {
      "cell_type": "code",
      "metadata": {
        "colab": {
          "base_uri": "https://localhost:8080/"
        },
        "id": "kRABvWx2jzq1",
        "outputId": "00840de9-ecc7-4dd7-a47a-86d1a1fda680"
      },
      "source": [
        "prediction=poly_svr.predict(X_train_processed)\n",
        "mse=mean_squared_error(Y_train,prediction)\n",
        "rmse=np.sqrt(mse)\n",
        "rmse"
      ],
      "execution_count": 47,
      "outputs": [
        {
          "output_type": "execute_result",
          "data": {
            "text/plain": [
              "117008.31538571569"
            ]
          },
          "metadata": {},
          "execution_count": 47
        }
      ]
    },
    {
      "cell_type": "code",
      "metadata": {
        "colab": {
          "base_uri": "https://localhost:8080/"
        },
        "id": "yjKPBMx0j0FX",
        "outputId": "071514ec-c99b-495b-ec43-3f1de9fdaa8d"
      },
      "source": [
        "from sklearn.model_selection import RandomizedSearchCV\n",
        "\n",
        "\n",
        "params = {'gamma':[0.0001, 0.1],'C':[1,1000], 'epsilon':[0,0.5], 'degree':[2,5]}\n",
        "\n",
        "rnd_search = RandomizedSearchCV(SVR(), params, n_iter=10, verbose=2, cv=3, random_state=42)\n",
        "\n",
        "rnd_search.fit(X_train_processed,Y_train)\n"
      ],
      "execution_count": 48,
      "outputs": [
        {
          "output_type": "stream",
          "name": "stdout",
          "text": [
            "Fitting 3 folds for each of 10 candidates, totalling 30 fits\n",
            "[CV] END .............C=1, degree=2, epsilon=0, gamma=0.0001; total time=  13.5s\n",
            "[CV] END .............C=1, degree=2, epsilon=0, gamma=0.0001; total time=  13.4s\n",
            "[CV] END .............C=1, degree=2, epsilon=0, gamma=0.0001; total time=  13.4s\n",
            "[CV] END ................C=1, degree=2, epsilon=0, gamma=0.1; total time=  13.5s\n",
            "[CV] END ................C=1, degree=2, epsilon=0, gamma=0.1; total time=  13.5s\n",
            "[CV] END ................C=1, degree=2, epsilon=0, gamma=0.1; total time=  13.5s\n",
            "[CV] END ................C=1, degree=5, epsilon=0, gamma=0.1; total time=  13.5s\n",
            "[CV] END ................C=1, degree=5, epsilon=0, gamma=0.1; total time=  13.5s\n",
            "[CV] END ................C=1, degree=5, epsilon=0, gamma=0.1; total time=  13.5s\n",
            "[CV] END ........C=1000, degree=5, epsilon=0.5, gamma=0.0001; total time=  13.4s\n",
            "[CV] END ........C=1000, degree=5, epsilon=0.5, gamma=0.0001; total time=  13.5s\n",
            "[CV] END ........C=1000, degree=5, epsilon=0.5, gamma=0.0001; total time=  13.5s\n",
            "[CV] END .............C=1000, degree=5, epsilon=0, gamma=0.1; total time=  12.9s\n",
            "[CV] END .............C=1000, degree=5, epsilon=0, gamma=0.1; total time=  12.9s\n",
            "[CV] END .............C=1000, degree=5, epsilon=0, gamma=0.1; total time=  12.9s\n",
            "[CV] END ...........C=1000, degree=2, epsilon=0.5, gamma=0.1; total time=  12.9s\n",
            "[CV] END ...........C=1000, degree=2, epsilon=0.5, gamma=0.1; total time=  13.0s\n",
            "[CV] END ...........C=1000, degree=2, epsilon=0.5, gamma=0.1; total time=  13.0s\n",
            "[CV] END ..........C=1000, degree=2, epsilon=0, gamma=0.0001; total time=  13.4s\n",
            "[CV] END ..........C=1000, degree=2, epsilon=0, gamma=0.0001; total time=  13.6s\n",
            "[CV] END ..........C=1000, degree=2, epsilon=0, gamma=0.0001; total time=  13.4s\n",
            "[CV] END .............C=1000, degree=2, epsilon=0, gamma=0.1; total time=  13.0s\n",
            "[CV] END .............C=1000, degree=2, epsilon=0, gamma=0.1; total time=  12.9s\n",
            "[CV] END .............C=1000, degree=2, epsilon=0, gamma=0.1; total time=  12.9s\n",
            "[CV] END ...........C=1, degree=2, epsilon=0.5, gamma=0.0001; total time=  13.4s\n",
            "[CV] END ...........C=1, degree=2, epsilon=0.5, gamma=0.0001; total time=  13.5s\n",
            "[CV] END ...........C=1, degree=2, epsilon=0.5, gamma=0.0001; total time=  13.4s\n",
            "[CV] END ...........C=1000, degree=5, epsilon=0.5, gamma=0.1; total time=  12.9s\n",
            "[CV] END ...........C=1000, degree=5, epsilon=0.5, gamma=0.1; total time=  12.9s\n",
            "[CV] END ...........C=1000, degree=5, epsilon=0.5, gamma=0.1; total time=  12.9s\n"
          ]
        },
        {
          "output_type": "execute_result",
          "data": {
            "text/plain": [
              "RandomizedSearchCV(cv=3, estimator=SVR(),\n",
              "                   param_distributions={'C': [1, 1000], 'degree': [2, 5],\n",
              "                                        'epsilon': [0, 0.5],\n",
              "                                        'gamma': [0.0001, 0.1]},\n",
              "                   random_state=42, verbose=2)"
            ]
          },
          "metadata": {},
          "execution_count": 48
        }
      ]
    },
    {
      "cell_type": "code",
      "metadata": {
        "id": "6PGefmYuOsYS"
      },
      "source": [
        ""
      ],
      "execution_count": 48,
      "outputs": []
    },
    {
      "cell_type": "code",
      "metadata": {
        "id": "sROYT1VlOsbM"
      },
      "source": [
        ""
      ],
      "execution_count": 48,
      "outputs": []
    },
    {
      "cell_type": "code",
      "metadata": {
        "id": "ymKOyHRxOsen"
      },
      "source": [
        ""
      ],
      "execution_count": 48,
      "outputs": []
    },
    {
      "cell_type": "code",
      "metadata": {
        "id": "Fimh6FXhNj7C"
      },
      "source": [
        ""
      ],
      "execution_count": 48,
      "outputs": []
    }
  ]
}