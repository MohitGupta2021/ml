{
  "nbformat": 4,
  "nbformat_minor": 0,
  "metadata": {
    "colab": {
      "name": "decision_trees_for_regression",
      "provenance": [],
      "authorship_tag": "ABX9TyNO1rkDZPZ+5AwseyCPkbe7",
      "include_colab_link": true
    },
    "kernelspec": {
      "name": "python3",
      "display_name": "Python 3"
    },
    "language_info": {
      "name": "python"
    }
  },
  "cells": [
    {
      "cell_type": "markdown",
      "metadata": {
        "id": "view-in-github",
        "colab_type": "text"
      },
      "source": [
        "<a href=\"https://colab.research.google.com/github/MohitGupta2021/ml/blob/main/decision_trees_for_regression.ipynb\" target=\"_parent\"><img src=\"https://colab.research.google.com/assets/colab-badge.svg\" alt=\"Open In Colab\"/></a>"
      ]
    },
    {
      "cell_type": "code",
      "metadata": {
        "id": "jo16ka7TOKmB"
      },
      "source": [
        " import numpy as np\n",
        " import pandas as pd\n",
        " import seaborn as sns\n",
        " import sklearn \n",
        " import matplotlib.pyplot as plt\n",
        " %matplotlib inline"
      ],
      "execution_count": 1,
      "outputs": []
    },
    {
      "cell_type": "code",
      "metadata": {
        "id": "QWwBA8FVTxAS"
      },
      "source": [
        "import warnings \n",
        "warnings.filterwarnings('ignore')"
      ],
      "execution_count": 2,
      "outputs": []
    },
    {
      "cell_type": "code",
      "metadata": {
        "id": "XAjISruWTxC-"
      },
      "source": [
        "from sklearn.datasets import fetch_openml"
      ],
      "execution_count": 3,
      "outputs": []
    },
    {
      "cell_type": "code",
      "metadata": {
        "id": "biy_Bv5hTxGg"
      },
      "source": [
        "machine_cpu=fetch_openml(name='machine_cpu')"
      ],
      "execution_count": 4,
      "outputs": []
    },
    {
      "cell_type": "code",
      "metadata": {
        "colab": {
          "base_uri": "https://localhost:8080/"
        },
        "id": "HNSdoKEPTzPR",
        "outputId": "4403cbb8-c0f4-4484-e80b-44d738206c6d"
      },
      "source": [
        "machine_cpu.data.shape"
      ],
      "execution_count": 5,
      "outputs": [
        {
          "output_type": "execute_result",
          "data": {
            "text/plain": [
              "(209, 6)"
            ]
          },
          "metadata": {},
          "execution_count": 5
        }
      ]
    },
    {
      "cell_type": "code",
      "metadata": {
        "colab": {
          "base_uri": "https://localhost:8080/",
          "height": 220
        },
        "id": "7SLmAqWpTzRu",
        "outputId": "35763b0d-5d69-4852-a1e9-56d160cd0120"
      },
      "source": [
        "machine_cpu.DESCR"
      ],
      "execution_count": 6,
      "outputs": [
        {
          "output_type": "execute_result",
          "data": {
            "application/vnd.google.colaboratory.intrinsic+json": {
              "type": "string"
            },
            "text/plain": [
              "'**Author**:   \\n**Source**: Unknown -   \\n**Please cite**:   \\n\\nThe problem concerns Relative CPU Performance Data. More information can be obtained in the UCI Machine\\n Learning repository (http://www.ics.uci.edu/~mlearn/MLSummary.html).\\n The used attributes are :\\n MYCT: machine cycle time in nanoseconds (integer)\\n MMIN: minimum main memory in kilobytes (integer)\\n MMAX: maximum main memory in kilobytes (integer)\\n CACH: cache memory in kilobytes (integer)\\n CHMIN: minimum channels in units (integer)\\n CHMAX: maximum channels in units (integer)\\n PRP: published relative performance (integer) (target variable)\\n \\n Original source: UCI machine learning repository. \\n Source: collection of regression datasets by Luis Torgo (ltorgo@ncc.up.pt) at\\n http://www.ncc.up.pt/~ltorgo/Regression/DataSets.html\\n Characteristics: 209 cases; 6 continuous variables\\n\\nDownloaded from openml.org.'"
            ]
          },
          "metadata": {},
          "execution_count": 6
        }
      ]
    },
    {
      "cell_type": "code",
      "metadata": {
        "colab": {
          "base_uri": "https://localhost:8080/",
          "height": 417
        },
        "id": "VCHihcHwV1BU",
        "outputId": "59cc082a-3f44-481e-84bf-0545c9c0dc16"
      },
      "source": [
        "machine_cpu.frame"
      ],
      "execution_count": 7,
      "outputs": [
        {
          "output_type": "execute_result",
          "data": {
            "text/html": [
              "<div>\n",
              "<style scoped>\n",
              "    .dataframe tbody tr th:only-of-type {\n",
              "        vertical-align: middle;\n",
              "    }\n",
              "\n",
              "    .dataframe tbody tr th {\n",
              "        vertical-align: top;\n",
              "    }\n",
              "\n",
              "    .dataframe thead th {\n",
              "        text-align: right;\n",
              "    }\n",
              "</style>\n",
              "<table border=\"1\" class=\"dataframe\">\n",
              "  <thead>\n",
              "    <tr style=\"text-align: right;\">\n",
              "      <th></th>\n",
              "      <th>MYCT</th>\n",
              "      <th>MMIN</th>\n",
              "      <th>MMAX</th>\n",
              "      <th>CACH</th>\n",
              "      <th>CHMIN</th>\n",
              "      <th>CHMAX</th>\n",
              "      <th>class</th>\n",
              "    </tr>\n",
              "  </thead>\n",
              "  <tbody>\n",
              "    <tr>\n",
              "      <th>0</th>\n",
              "      <td>125.0</td>\n",
              "      <td>256.0</td>\n",
              "      <td>6000.0</td>\n",
              "      <td>256.0</td>\n",
              "      <td>16.0</td>\n",
              "      <td>128.0</td>\n",
              "      <td>198.0</td>\n",
              "    </tr>\n",
              "    <tr>\n",
              "      <th>1</th>\n",
              "      <td>29.0</td>\n",
              "      <td>8000.0</td>\n",
              "      <td>32000.0</td>\n",
              "      <td>32.0</td>\n",
              "      <td>8.0</td>\n",
              "      <td>32.0</td>\n",
              "      <td>269.0</td>\n",
              "    </tr>\n",
              "    <tr>\n",
              "      <th>2</th>\n",
              "      <td>29.0</td>\n",
              "      <td>8000.0</td>\n",
              "      <td>32000.0</td>\n",
              "      <td>32.0</td>\n",
              "      <td>8.0</td>\n",
              "      <td>32.0</td>\n",
              "      <td>220.0</td>\n",
              "    </tr>\n",
              "    <tr>\n",
              "      <th>3</th>\n",
              "      <td>29.0</td>\n",
              "      <td>8000.0</td>\n",
              "      <td>32000.0</td>\n",
              "      <td>32.0</td>\n",
              "      <td>8.0</td>\n",
              "      <td>32.0</td>\n",
              "      <td>172.0</td>\n",
              "    </tr>\n",
              "    <tr>\n",
              "      <th>4</th>\n",
              "      <td>29.0</td>\n",
              "      <td>8000.0</td>\n",
              "      <td>16000.0</td>\n",
              "      <td>32.0</td>\n",
              "      <td>8.0</td>\n",
              "      <td>16.0</td>\n",
              "      <td>132.0</td>\n",
              "    </tr>\n",
              "    <tr>\n",
              "      <th>...</th>\n",
              "      <td>...</td>\n",
              "      <td>...</td>\n",
              "      <td>...</td>\n",
              "      <td>...</td>\n",
              "      <td>...</td>\n",
              "      <td>...</td>\n",
              "      <td>...</td>\n",
              "    </tr>\n",
              "    <tr>\n",
              "      <th>204</th>\n",
              "      <td>124.0</td>\n",
              "      <td>1000.0</td>\n",
              "      <td>8000.0</td>\n",
              "      <td>0.0</td>\n",
              "      <td>1.0</td>\n",
              "      <td>8.0</td>\n",
              "      <td>42.0</td>\n",
              "    </tr>\n",
              "    <tr>\n",
              "      <th>205</th>\n",
              "      <td>98.0</td>\n",
              "      <td>1000.0</td>\n",
              "      <td>8000.0</td>\n",
              "      <td>32.0</td>\n",
              "      <td>2.0</td>\n",
              "      <td>8.0</td>\n",
              "      <td>46.0</td>\n",
              "    </tr>\n",
              "    <tr>\n",
              "      <th>206</th>\n",
              "      <td>125.0</td>\n",
              "      <td>2000.0</td>\n",
              "      <td>8000.0</td>\n",
              "      <td>0.0</td>\n",
              "      <td>2.0</td>\n",
              "      <td>14.0</td>\n",
              "      <td>52.0</td>\n",
              "    </tr>\n",
              "    <tr>\n",
              "      <th>207</th>\n",
              "      <td>480.0</td>\n",
              "      <td>512.0</td>\n",
              "      <td>8000.0</td>\n",
              "      <td>32.0</td>\n",
              "      <td>0.0</td>\n",
              "      <td>0.0</td>\n",
              "      <td>67.0</td>\n",
              "    </tr>\n",
              "    <tr>\n",
              "      <th>208</th>\n",
              "      <td>480.0</td>\n",
              "      <td>1000.0</td>\n",
              "      <td>4000.0</td>\n",
              "      <td>0.0</td>\n",
              "      <td>0.0</td>\n",
              "      <td>0.0</td>\n",
              "      <td>45.0</td>\n",
              "    </tr>\n",
              "  </tbody>\n",
              "</table>\n",
              "<p>209 rows × 7 columns</p>\n",
              "</div>"
            ],
            "text/plain": [
              "      MYCT    MMIN     MMAX   CACH  CHMIN  CHMAX  class\n",
              "0    125.0   256.0   6000.0  256.0   16.0  128.0  198.0\n",
              "1     29.0  8000.0  32000.0   32.0    8.0   32.0  269.0\n",
              "2     29.0  8000.0  32000.0   32.0    8.0   32.0  220.0\n",
              "3     29.0  8000.0  32000.0   32.0    8.0   32.0  172.0\n",
              "4     29.0  8000.0  16000.0   32.0    8.0   16.0  132.0\n",
              "..     ...     ...      ...    ...    ...    ...    ...\n",
              "204  124.0  1000.0   8000.0    0.0    1.0    8.0   42.0\n",
              "205   98.0  1000.0   8000.0   32.0    2.0    8.0   46.0\n",
              "206  125.0  2000.0   8000.0    0.0    2.0   14.0   52.0\n",
              "207  480.0   512.0   8000.0   32.0    0.0    0.0   67.0\n",
              "208  480.0  1000.0   4000.0    0.0    0.0    0.0   45.0\n",
              "\n",
              "[209 rows x 7 columns]"
            ]
          },
          "metadata": {},
          "execution_count": 7
        }
      ]
    },
    {
      "cell_type": "code",
      "metadata": {
        "id": "4Ihh9eLiV1EC"
      },
      "source": [
        "X_train=machine_cpu.data\n",
        "Y_train=machine_cpu.target"
      ],
      "execution_count": 11,
      "outputs": []
    },
    {
      "cell_type": "code",
      "metadata": {
        "colab": {
          "base_uri": "https://localhost:8080/"
        },
        "id": "GtrlBtYjWOJd",
        "outputId": "818ad4f9-415d-4e43-edac-e0a05ad37928"
      },
      "source": [
        "type(machine_cpu)"
      ],
      "execution_count": 12,
      "outputs": [
        {
          "output_type": "execute_result",
          "data": {
            "text/plain": [
              "sklearn.utils.Bunch"
            ]
          },
          "metadata": {},
          "execution_count": 12
        }
      ]
    },
    {
      "cell_type": "code",
      "metadata": {
        "colab": {
          "base_uri": "https://localhost:8080/"
        },
        "id": "IM5Ei525WOMM",
        "outputId": "c692435e-9c3d-4d7c-86e8-ed7ab65840d3"
      },
      "source": [
        "type(X_train)"
      ],
      "execution_count": 14,
      "outputs": [
        {
          "output_type": "execute_result",
          "data": {
            "text/plain": [
              "pandas.core.frame.DataFrame"
            ]
          },
          "metadata": {},
          "execution_count": 14
        }
      ]
    },
    {
      "cell_type": "code",
      "metadata": {
        "colab": {
          "base_uri": "https://localhost:8080/"
        },
        "id": "VVqx8sZYWOOy",
        "outputId": "5f2971a0-fdaf-44bc-aac8-61f4d2cfc15a"
      },
      "source": [
        "type(Y_train)"
      ],
      "execution_count": 15,
      "outputs": [
        {
          "output_type": "execute_result",
          "data": {
            "text/plain": [
              "pandas.core.series.Series"
            ]
          },
          "metadata": {},
          "execution_count": 15
        }
      ]
    },
    {
      "cell_type": "code",
      "metadata": {
        "id": "P5iqxI6FWORp"
      },
      "source": [
        "from sklearn.model_selection import train_test_split\n",
        "X_train,X_test,y_train,y_test=train_test_split(X_train,Y_train,test_size=0.2,random_state=20)"
      ],
      "execution_count": 16,
      "outputs": []
    },
    {
      "cell_type": "code",
      "metadata": {
        "colab": {
          "base_uri": "https://localhost:8080/"
        },
        "id": "7nBKWAxeWOU7",
        "outputId": "fd5f57d5-0656-44b8-a1bd-63d756de8167"
      },
      "source": [
        "len(X_train)"
      ],
      "execution_count": 17,
      "outputs": [
        {
          "output_type": "execute_result",
          "data": {
            "text/plain": [
              "167"
            ]
          },
          "metadata": {},
          "execution_count": 17
        }
      ]
    },
    {
      "cell_type": "code",
      "metadata": {
        "colab": {
          "base_uri": "https://localhost:8080/"
        },
        "id": "Y7QkhkNCV1Gz",
        "outputId": "8637f004-308d-43af-a8b4-56ab61dddd6e"
      },
      "source": [
        "len(X_test)"
      ],
      "execution_count": 18,
      "outputs": [
        {
          "output_type": "execute_result",
          "data": {
            "text/plain": [
              "42"
            ]
          },
          "metadata": {},
          "execution_count": 18
        }
      ]
    },
    {
      "cell_type": "code",
      "metadata": {
        "colab": {
          "base_uri": "https://localhost:8080/",
          "height": 745
        },
        "id": "9BkwMfFLV1J3",
        "outputId": "b4c1820e-a739-463c-994a-78f2d7842fbb"
      },
      "source": [
        "X_train.hist(bins=50,figsize=(15,10))"
      ],
      "execution_count": 19,
      "outputs": [
        {
          "output_type": "execute_result",
          "data": {
            "text/plain": [
              "array([[<matplotlib.axes._subplots.AxesSubplot object at 0x7f0840978910>,\n",
              "        <matplotlib.axes._subplots.AxesSubplot object at 0x7f084094cd50>],\n",
              "       [<matplotlib.axes._subplots.AxesSubplot object at 0x7f0840910390>,\n",
              "        <matplotlib.axes._subplots.AxesSubplot object at 0x7f08408c8990>],\n",
              "       [<matplotlib.axes._subplots.AxesSubplot object at 0x7f084087df90>,\n",
              "        <matplotlib.axes._subplots.AxesSubplot object at 0x7f084083e5d0>]],\n",
              "      dtype=object)"
            ]
          },
          "metadata": {},
          "execution_count": 19
        },
        {
          "output_type": "display_data",
          "data": {
            "image/png": "[encoded data removed]",
            "text/plain": [
              "<Figure size 1080x720 with 6 Axes>"
            ]
          },
          "metadata": {
            "needs_background": "light"
          }
        }
      ]
    },
    {
      "cell_type": "code",
      "metadata": {
        "colab": {
          "base_uri": "https://localhost:8080/",
          "height": 663
        },
        "id": "Em0XiflIV1M-",
        "outputId": "a6d916e3-b835-439c-82df-d61f37328951"
      },
      "source": [
        "sns.pairplot(X_train)"
      ],
      "execution_count": 20,
      "outputs": [
        {
          "output_type": "execute_result",
          "data": {
            "text/plain": [
              "<seaborn.axisgrid.PairGrid at 0x7f083fdea710>"
            ]
          },
          "metadata": {},
          "execution_count": 20
        },
        {
          "output_type": "display_data",
          "data": {
            "image/png": "[encoded data removed]",
            "text/plain": [
              "<Figure size 1080x1080 with 42 Axes>"
            ]
          },
          "metadata": {
            "needs_background": "light"
          }
        }
      ]
    },
    {
      "cell_type": "code",
      "metadata": {
        "colab": {
          "base_uri": "https://localhost:8080/",
          "height": 295
        },
        "id": "bEy_BNpNTzVI",
        "outputId": "f3b0af47-c4c0-4b75-a2e3-9949a997b336"
      },
      "source": [
        "X_train.describe()"
      ],
      "execution_count": 21,
      "outputs": [
        {
          "output_type": "execute_result",
          "data": {
            "text/html": [
              "<div>\n",
              "<style scoped>\n",
              "    .dataframe tbody tr th:only-of-type {\n",
              "        vertical-align: middle;\n",
              "    }\n",
              "\n",
              "    .dataframe tbody tr th {\n",
              "        vertical-align: top;\n",
              "    }\n",
              "\n",
              "    .dataframe thead th {\n",
              "        text-align: right;\n",
              "    }\n",
              "</style>\n",
              "<table border=\"1\" class=\"dataframe\">\n",
              "  <thead>\n",
              "    <tr style=\"text-align: right;\">\n",
              "      <th></th>\n",
              "      <th>MYCT</th>\n",
              "      <th>MMIN</th>\n",
              "      <th>MMAX</th>\n",
              "      <th>CACH</th>\n",
              "      <th>CHMIN</th>\n",
              "      <th>CHMAX</th>\n",
              "    </tr>\n",
              "  </thead>\n",
              "  <tbody>\n",
              "    <tr>\n",
              "      <th>count</th>\n",
              "      <td>167.000000</td>\n",
              "      <td>167.000000</td>\n",
              "      <td>167.000000</td>\n",
              "      <td>167.000000</td>\n",
              "      <td>167.000000</td>\n",
              "      <td>167.000000</td>\n",
              "    </tr>\n",
              "    <tr>\n",
              "      <th>mean</th>\n",
              "      <td>207.958084</td>\n",
              "      <td>2900.826347</td>\n",
              "      <td>11761.161677</td>\n",
              "      <td>26.071856</td>\n",
              "      <td>4.760479</td>\n",
              "      <td>18.616766</td>\n",
              "    </tr>\n",
              "    <tr>\n",
              "      <th>std</th>\n",
              "      <td>266.772823</td>\n",
              "      <td>4165.950964</td>\n",
              "      <td>12108.332354</td>\n",
              "      <td>42.410014</td>\n",
              "      <td>6.487439</td>\n",
              "      <td>27.489919</td>\n",
              "    </tr>\n",
              "    <tr>\n",
              "      <th>min</th>\n",
              "      <td>17.000000</td>\n",
              "      <td>64.000000</td>\n",
              "      <td>64.000000</td>\n",
              "      <td>0.000000</td>\n",
              "      <td>0.000000</td>\n",
              "      <td>0.000000</td>\n",
              "    </tr>\n",
              "    <tr>\n",
              "      <th>25%</th>\n",
              "      <td>50.000000</td>\n",
              "      <td>768.000000</td>\n",
              "      <td>4000.000000</td>\n",
              "      <td>0.000000</td>\n",
              "      <td>1.000000</td>\n",
              "      <td>5.000000</td>\n",
              "    </tr>\n",
              "    <tr>\n",
              "      <th>50%</th>\n",
              "      <td>110.000000</td>\n",
              "      <td>2000.000000</td>\n",
              "      <td>8000.000000</td>\n",
              "      <td>8.000000</td>\n",
              "      <td>2.000000</td>\n",
              "      <td>8.000000</td>\n",
              "    </tr>\n",
              "    <tr>\n",
              "      <th>75%</th>\n",
              "      <td>232.500000</td>\n",
              "      <td>3100.000000</td>\n",
              "      <td>16000.000000</td>\n",
              "      <td>32.000000</td>\n",
              "      <td>6.000000</td>\n",
              "      <td>24.000000</td>\n",
              "    </tr>\n",
              "    <tr>\n",
              "      <th>max</th>\n",
              "      <td>1500.000000</td>\n",
              "      <td>32000.000000</td>\n",
              "      <td>64000.000000</td>\n",
              "      <td>256.000000</td>\n",
              "      <td>52.000000</td>\n",
              "      <td>176.000000</td>\n",
              "    </tr>\n",
              "  </tbody>\n",
              "</table>\n",
              "</div>"
            ],
            "text/plain": [
              "              MYCT          MMIN  ...       CHMIN       CHMAX\n",
              "count   167.000000    167.000000  ...  167.000000  167.000000\n",
              "mean    207.958084   2900.826347  ...    4.760479   18.616766\n",
              "std     266.772823   4165.950964  ...    6.487439   27.489919\n",
              "min      17.000000     64.000000  ...    0.000000    0.000000\n",
              "25%      50.000000    768.000000  ...    1.000000    5.000000\n",
              "50%     110.000000   2000.000000  ...    2.000000    8.000000\n",
              "75%     232.500000   3100.000000  ...    6.000000   24.000000\n",
              "max    1500.000000  32000.000000  ...   52.000000  176.000000\n",
              "\n",
              "[8 rows x 6 columns]"
            ]
          },
          "metadata": {},
          "execution_count": 21
        }
      ]
    },
    {
      "cell_type": "code",
      "metadata": {
        "colab": {
          "base_uri": "https://localhost:8080/"
        },
        "id": "VDzZlSxJXIna",
        "outputId": "f208113c-1c0c-48df-8b78-7316c65f3552"
      },
      "source": [
        "X_train.isnull().sum()"
      ],
      "execution_count": 22,
      "outputs": [
        {
          "output_type": "execute_result",
          "data": {
            "text/plain": [
              "MYCT     0\n",
              "MMIN     0\n",
              "MMAX     0\n",
              "CACH     0\n",
              "CHMIN    0\n",
              "CHMAX    0\n",
              "dtype: int64"
            ]
          },
          "metadata": {},
          "execution_count": 22
        }
      ]
    },
    {
      "cell_type": "code",
      "metadata": {
        "id": "QNWJbGqRXIqJ"
      },
      "source": [
        "from sklearn.preprocessing import StandardScaler\n",
        "from sklearn.pipeline import  Pipeline\n",
        "scale_pipe=Pipeline([('scaler',StandardScaler())])\n"
      ],
      "execution_count": 24,
      "outputs": []
    },
    {
      "cell_type": "code",
      "metadata": {
        "id": "NVnzKq4SXi_A"
      },
      "source": [
        "X_train_scaled=scale_pipe.fit_transform(X_train)"
      ],
      "execution_count": 25,
      "outputs": []
    },
    {
      "cell_type": "code",
      "metadata": {
        "colab": {
          "base_uri": "https://localhost:8080/"
        },
        "id": "kOzocEr_XjBi",
        "outputId": "d79ad484-27fb-4192-c18e-98d5bf2470a0"
      },
      "source": [
        "from sklearn.tree import DecisionTreeRegressor\n",
        "tree_reg=DecisionTreeRegressor()\n",
        "tree_reg.fit(X_train,y_train)"
      ],
      "execution_count": 27,
      "outputs": [
        {
          "output_type": "execute_result",
          "data": {
            "text/plain": [
              "DecisionTreeRegressor()"
            ]
          },
          "metadata": {},
          "execution_count": 27
        }
      ]
    },
    {
      "cell_type": "code",
      "metadata": {
        "colab": {
          "base_uri": "https://localhost:8080/"
        },
        "id": "Wqu6z-4kXjEg",
        "outputId": "547706a6-8a52-4723-c7c3-ec079730ad94"
      },
      "source": [
        "scaled_reg=DecisionTreeRegressor()\n",
        "scaled_reg.fit(X_train_scaled,y_train)"
      ],
      "execution_count": 28,
      "outputs": [
        {
          "output_type": "execute_result",
          "data": {
            "text/plain": [
              "DecisionTreeRegressor()"
            ]
          },
          "metadata": {},
          "execution_count": 28
        }
      ]
    },
    {
      "cell_type": "code",
      "metadata": {
        "id": "Hrw9UbllXjHO"
      },
      "source": [
        "from sklearn.metrics import mean_squared_error\n",
        "\n",
        "def predict(input_data,model,labels):\n",
        "   \n",
        "    \n",
        "    preds = model.predict(input_data)\n",
        "    mse = mean_squared_error(labels,preds)\n",
        "    rmse = np.sqrt(mse)\n",
        "    rmse\n",
        "    \n",
        "    return rmse"
      ],
      "execution_count": 29,
      "outputs": []
    },
    {
      "cell_type": "code",
      "metadata": {
        "colab": {
          "base_uri": "https://localhost:8080/"
        },
        "id": "pGTTRC8VXjJ4",
        "outputId": "1c4ac301-a245-4968-d320-5c9503fafb72"
      },
      "source": [
        "predict(X_train,tree_reg,y_train)"
      ],
      "execution_count": 30,
      "outputs": [
        {
          "output_type": "execute_result",
          "data": {
            "text/plain": [
              "9.724590719956222"
            ]
          },
          "metadata": {},
          "execution_count": 30
        }
      ]
    },
    {
      "cell_type": "code",
      "metadata": {
        "colab": {
          "base_uri": "https://localhost:8080/"
        },
        "id": "Dns3HD3gXjM3",
        "outputId": "5a7c6c7b-eaab-428c-fb32-1f20f686fd5c"
      },
      "source": [
        "predict(X_train_scaled,scaled_reg,y_train)"
      ],
      "execution_count": 31,
      "outputs": [
        {
          "output_type": "execute_result",
          "data": {
            "text/plain": [
              "9.724590719956222"
            ]
          },
          "metadata": {},
          "execution_count": 31
        }
      ]
    },
    {
      "cell_type": "code",
      "metadata": {
        "colab": {
          "base_uri": "https://localhost:8080/"
        },
        "id": "DkzyaiI9XjPT",
        "outputId": "34bc6007-716c-4f40-f032-e23f41b51eb1"
      },
      "source": [
        "from sklearn.model_selection import GridSearchCV\n",
        "\n",
        "params_grid = {'max_leaf_nodes': list(range(0, 10)), 'min_samples_split': [0,1,2, 3, 4], \n",
        "              'max_depth':[None,0,1,2,3]}\n",
        "\n",
        "#refit is true by default. The best estimator is trained on the whole dataset \n",
        "\n",
        "grid_search = GridSearchCV(DecisionTreeRegressor(random_state=42), params_grid, verbose=1, cv=3, refit=True)\n",
        "\n",
        "grid_search.fit(X_train, y_train)"
      ],
      "execution_count": 35,
      "outputs": [
        {
          "output_type": "stream",
          "name": "stdout",
          "text": [
            "Fitting 3 folds for each of 250 candidates, totalling 750 fits\n"
          ]
        },
        {
          "output_type": "execute_result",
          "data": {
            "text/plain": [
              "GridSearchCV(cv=3, estimator=DecisionTreeRegressor(random_state=42),\n",
              "             param_grid={'max_depth': [None, 0, 1, 2, 3],\n",
              "                         'max_leaf_nodes': [0, 1, 2, 3, 4, 5, 6, 7, 8, 9],\n",
              "                         'min_samples_split': [0, 1, 2, 3, 4]},\n",
              "             verbose=1)"
            ]
          },
          "metadata": {},
          "execution_count": 35
        }
      ]
    },
    {
      "cell_type": "code",
      "metadata": {
        "colab": {
          "base_uri": "https://localhost:8080/"
        },
        "id": "pR0YQNQdXjR7",
        "outputId": "5a5e0814-297b-4d1b-db17-74c8f0ee4c08"
      },
      "source": [
        "grid_search.best_params_"
      ],
      "execution_count": 36,
      "outputs": [
        {
          "output_type": "execute_result",
          "data": {
            "text/plain": [
              "{'max_depth': None, 'max_leaf_nodes': 9, 'min_samples_split': 4}"
            ]
          },
          "metadata": {},
          "execution_count": 36
        }
      ]
    },
    {
      "cell_type": "code",
      "metadata": {
        "colab": {
          "base_uri": "https://localhost:8080/"
        },
        "id": "uMyPlt_aXItk",
        "outputId": "303bad54-3372-4a7c-a1a6-b5d6ef8ab69b"
      },
      "source": [
        "grid_search.best_estimator_"
      ],
      "execution_count": 37,
      "outputs": [
        {
          "output_type": "execute_result",
          "data": {
            "text/plain": [
              "DecisionTreeRegressor(max_leaf_nodes=9, min_samples_split=4, random_state=42)"
            ]
          },
          "metadata": {},
          "execution_count": 37
        }
      ]
    },
    {
      "cell_type": "code",
      "metadata": {
        "id": "EbzvDI46aVoD"
      },
      "source": [
        "tree_best=grid_search.best_estimator_"
      ],
      "execution_count": 38,
      "outputs": []
    },
    {
      "cell_type": "code",
      "metadata": {
        "colab": {
          "base_uri": "https://localhost:8080/"
        },
        "id": "isJBrMoZaVqY",
        "outputId": "122a9bbb-a308-41ad-869b-6b4a6ea8e233"
      },
      "source": [
        "predict(X_train, tree_best, y_train)"
      ],
      "execution_count": 39,
      "outputs": [
        {
          "output_type": "execute_result",
          "data": {
            "text/plain": [
              "34.999530266023044"
            ]
          },
          "metadata": {},
          "execution_count": 39
        }
      ]
    },
    {
      "cell_type": "code",
      "metadata": {
        "colab": {
          "base_uri": "https://localhost:8080/"
        },
        "id": "0T0uz15TaVtv",
        "outputId": "7562c94d-1384-4612-afe6-fce9981d5fa9"
      },
      "source": [
        "predict(X_test, tree_reg, y_test)"
      ],
      "execution_count": 40,
      "outputs": [
        {
          "output_type": "execute_result",
          "data": {
            "text/plain": [
              "43.135445594854666"
            ]
          },
          "metadata": {},
          "execution_count": 40
        }
      ]
    }
  ]
}